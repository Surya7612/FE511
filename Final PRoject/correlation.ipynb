{
 "cells": [
  {
   "cell_type": "code",
   "execution_count": 53,
   "metadata": {},
   "outputs": [],
   "source": [
    "import pandas as pd\n",
    "import numpy as np\n",
    "from scipy.stats import pearsonr\n",
    "import matplotlib.pyplot as plt"
   ]
  },
  {
   "cell_type": "code",
   "execution_count": 54,
   "metadata": {},
   "outputs": [],
   "source": [
    "amazon_monthly_csv_path = '/Users/surya/Desktop/FE-511/FE511/Final PRoject/amazon_monthly.csv'\n",
    "sp500_monthly_csv_path = '/Users/surya/Desktop/FE-511/FE511/Final PRoject/S&P500_monthly.csv'\n",
    "amazon_daily_csv_path = '/Users/surya/Desktop/FE-511/FE511/Final PRoject/amzn_daily_wallstreet_HistoricalPrices.csv'\n",
    "sp500_daily_csv_path = '/Users/surya/Desktop/FE-511/FE511/Final PRoject/S&P_daily_wallstreet_HistoricalPrices.csv'"
   ]
  },
  {
   "cell_type": "markdown",
   "metadata": {},
   "source": [
    "## Finding correlation using monthly data"
   ]
  },
  {
   "cell_type": "code",
   "execution_count": 55,
   "metadata": {},
   "outputs": [],
   "source": [
    "# Reading monthly data from CSV files\n",
    "amazon_monthly = pd.read_csv(amazon_monthly_csv_path, parse_dates=['date'])\n",
    "sp500_monthly = pd.read_csv(sp500_monthly_csv_path, parse_dates=['datadate'])"
   ]
  },
  {
   "cell_type": "code",
   "execution_count": 56,
   "metadata": {},
   "outputs": [],
   "source": [
    "amazon_monthly = amazon_monthly.dropna()\n",
    "sp500_monthly = sp500_monthly.dropna()"
   ]
  },
  {
   "cell_type": "code",
   "execution_count": 57,
   "metadata": {},
   "outputs": [
    {
     "data": {
      "text/html": [
       "<div>\n",
       "<style scoped>\n",
       "    .dataframe tbody tr th:only-of-type {\n",
       "        vertical-align: middle;\n",
       "    }\n",
       "\n",
       "    .dataframe tbody tr th {\n",
       "        vertical-align: top;\n",
       "    }\n",
       "\n",
       "    .dataframe thead th {\n",
       "        text-align: right;\n",
       "    }\n",
       "</style>\n",
       "<table border=\"1\" class=\"dataframe\">\n",
       "  <thead>\n",
       "    <tr style=\"text-align: right;\">\n",
       "      <th></th>\n",
       "      <th>PERMNO</th>\n",
       "      <th>date</th>\n",
       "      <th>COMNAM</th>\n",
       "      <th>PRC</th>\n",
       "    </tr>\n",
       "  </thead>\n",
       "  <tbody>\n",
       "    <tr>\n",
       "      <th>0</th>\n",
       "      <td>84788</td>\n",
       "      <td>2018-01-31</td>\n",
       "      <td>AMAZON COM INC</td>\n",
       "      <td>1450.89001</td>\n",
       "    </tr>\n",
       "    <tr>\n",
       "      <th>1</th>\n",
       "      <td>84788</td>\n",
       "      <td>2018-02-28</td>\n",
       "      <td>AMAZON COM INC</td>\n",
       "      <td>1512.44995</td>\n",
       "    </tr>\n",
       "    <tr>\n",
       "      <th>2</th>\n",
       "      <td>84788</td>\n",
       "      <td>2018-03-29</td>\n",
       "      <td>AMAZON COM INC</td>\n",
       "      <td>1447.33997</td>\n",
       "    </tr>\n",
       "    <tr>\n",
       "      <th>3</th>\n",
       "      <td>84788</td>\n",
       "      <td>2018-04-30</td>\n",
       "      <td>AMAZON COM INC</td>\n",
       "      <td>1566.13000</td>\n",
       "    </tr>\n",
       "    <tr>\n",
       "      <th>4</th>\n",
       "      <td>84788</td>\n",
       "      <td>2018-05-31</td>\n",
       "      <td>AMAZON COM INC</td>\n",
       "      <td>1629.62000</td>\n",
       "    </tr>\n",
       "    <tr>\n",
       "      <th>5</th>\n",
       "      <td>84788</td>\n",
       "      <td>2018-06-29</td>\n",
       "      <td>AMAZON COM INC</td>\n",
       "      <td>1699.80005</td>\n",
       "    </tr>\n",
       "    <tr>\n",
       "      <th>6</th>\n",
       "      <td>84788</td>\n",
       "      <td>2018-07-31</td>\n",
       "      <td>AMAZON COM INC</td>\n",
       "      <td>1777.43994</td>\n",
       "    </tr>\n",
       "    <tr>\n",
       "      <th>7</th>\n",
       "      <td>84788</td>\n",
       "      <td>2018-08-31</td>\n",
       "      <td>AMAZON COM INC</td>\n",
       "      <td>2012.70996</td>\n",
       "    </tr>\n",
       "    <tr>\n",
       "      <th>8</th>\n",
       "      <td>84788</td>\n",
       "      <td>2018-09-28</td>\n",
       "      <td>AMAZON COM INC</td>\n",
       "      <td>2003.00000</td>\n",
       "    </tr>\n",
       "    <tr>\n",
       "      <th>9</th>\n",
       "      <td>84788</td>\n",
       "      <td>2018-10-31</td>\n",
       "      <td>AMAZON COM INC</td>\n",
       "      <td>1598.01001</td>\n",
       "    </tr>\n",
       "  </tbody>\n",
       "</table>\n",
       "</div>"
      ],
      "text/plain": [
       "   PERMNO       date          COMNAM         PRC\n",
       "0   84788 2018-01-31  AMAZON COM INC  1450.89001\n",
       "1   84788 2018-02-28  AMAZON COM INC  1512.44995\n",
       "2   84788 2018-03-29  AMAZON COM INC  1447.33997\n",
       "3   84788 2018-04-30  AMAZON COM INC  1566.13000\n",
       "4   84788 2018-05-31  AMAZON COM INC  1629.62000\n",
       "5   84788 2018-06-29  AMAZON COM INC  1699.80005\n",
       "6   84788 2018-07-31  AMAZON COM INC  1777.43994\n",
       "7   84788 2018-08-31  AMAZON COM INC  2012.70996\n",
       "8   84788 2018-09-28  AMAZON COM INC  2003.00000\n",
       "9   84788 2018-10-31  AMAZON COM INC  1598.01001"
      ]
     },
     "execution_count": 57,
     "metadata": {},
     "output_type": "execute_result"
    }
   ],
   "source": [
    "# amazon_monthly = pd.DataFrame(amazon_monthly)\n",
    "# print(amazon_monthly)\n",
    "amazon_monthly.head(10)"
   ]
  },
  {
   "cell_type": "code",
   "execution_count": 58,
   "metadata": {},
   "outputs": [
    {
     "data": {
      "text/plain": [
       "gvkeyx      False\n",
       "prccm       False\n",
       "datadate    False\n",
       "conm        False\n",
       "tic         False\n",
       "dtype: bool"
      ]
     },
     "execution_count": 58,
     "metadata": {},
     "output_type": "execute_result"
    }
   ],
   "source": [
    "amazon_monthly.isnull().any()\n",
    "sp500_monthly.isnull().any()"
   ]
  },
  {
   "cell_type": "markdown",
   "metadata": {},
   "source": [
    "## Pearson Correlation"
   ]
  },
  {
   "cell_type": "code",
   "execution_count": 59,
   "metadata": {},
   "outputs": [
    {
     "name": "stdout",
     "output_type": "stream",
     "text": [
      "Monthly Correlation: 0.3881\n"
     ]
    }
   ],
   "source": [
    "# Correlation for monthly data\n",
    "monthly_correlation = pearsonr(amazon_monthly['PRC'], sp500_monthly['prccm'])[0]\n",
    "print(f\"Monthly Correlation: {monthly_correlation:.4f}\")"
   ]
  },
  {
   "cell_type": "code",
   "execution_count": 60,
   "metadata": {},
   "outputs": [
    {
     "data": {
      "image/png": "[encoded data removed]",
      "text/plain": [
       "<Figure size 432x288 with 1 Axes>"
      ]
     },
     "metadata": {
      "needs_background": "light"
     },
     "output_type": "display_data"
    }
   ],
   "source": [
    "# Plot monthly returns\n",
    "plt.scatter(amazon_monthly['PRC'], sp500_monthly['prccm'])\n",
    "plt.title('Monthly Returns Correlation')\n",
    "plt.xlabel('Amazon Monthly Returns')\n",
    "plt.ylabel('S&P 500 Monthly Returns')\n",
    "plt.show()"
   ]
  },
  {
   "cell_type": "code",
   "execution_count": 61,
   "metadata": {},
   "outputs": [
    {
     "name": "stderr",
     "output_type": "stream",
     "text": [
      "/var/folders/13/vzz1wpdx7v71md6284hwnky40000gn/T/ipykernel_24461/1139253460.py:2: UserWarning: Could not infer format, so each element will be parsed individually, falling back to `dateutil`. To ensure parsing is consistent and as-expected, please specify a format.\n",
      "  amazon_daily = pd.read_csv(amazon_daily_csv_path, parse_dates=['Date'])\n",
      "/var/folders/13/vzz1wpdx7v71md6284hwnky40000gn/T/ipykernel_24461/1139253460.py:3: UserWarning: Could not infer format, so each element will be parsed individually, falling back to `dateutil`. To ensure parsing is consistent and as-expected, please specify a format.\n",
      "  sp500_daily = pd.read_csv(sp500_daily_csv_path, parse_dates=['Date'])\n"
     ]
    }
   ],
   "source": [
    "# Reading daily data from CSV files\n",
    "amazon_daily = pd.read_csv(amazon_daily_csv_path, parse_dates=['Date'])\n",
    "sp500_daily = pd.read_csv(sp500_daily_csv_path, parse_dates=['Date'])"
   ]
  },
  {
   "cell_type": "code",
   "execution_count": 62,
   "metadata": {},
   "outputs": [],
   "source": [
    "# Drop NaN values\n",
    "amazon_daily = amazon_daily.dropna()\n",
    "sp500_daily = sp500_daily.dropna()"
   ]
  },
  {
   "cell_type": "code",
   "execution_count": 63,
   "metadata": {},
   "outputs": [
    {
     "data": {
      "text/plain": [
       "Date       False\n",
       " Open      False\n",
       " High      False\n",
       " Low       False\n",
       " Close     False\n",
       " Volume    False\n",
       "dtype: bool"
      ]
     },
     "execution_count": 63,
     "metadata": {},
     "output_type": "execute_result"
    }
   ],
   "source": [
    "amazon_daily.isnull().any()"
   ]
  },
  {
   "cell_type": "code",
   "execution_count": 64,
   "metadata": {},
   "outputs": [
    {
     "data": {
      "text/plain": [
       "Date      False\n",
       " Open     False\n",
       " High     False\n",
       " Low      False\n",
       " Close    False\n",
       "dtype: bool"
      ]
     },
     "execution_count": 64,
     "metadata": {},
     "output_type": "execute_result"
    }
   ],
   "source": [
    "sp500_daily.isnull().any()"
   ]
  },
  {
   "cell_type": "markdown",
   "metadata": {},
   "source": [
    "## Linear Regression"
   ]
  },
  {
   "cell_type": "code",
   "execution_count": 65,
   "metadata": {},
   "outputs": [
    {
     "name": "stdout",
     "output_type": "stream",
     "text": [
      "Mean Squared Error for Linear Regression: 1180814.5954063812\n"
     ]
    },
    {
     "data": {
      "image/png": "[encoded data removed]",
      "text/plain": [
       "<Figure size 432x288 with 1 Axes>"
      ]
     },
     "metadata": {
      "needs_background": "light"
     },
     "output_type": "display_data"
    }
   ],
   "source": [
    "from sklearn.linear_model import LinearRegression\n",
    "from sklearn.model_selection import train_test_split\n",
    "from sklearn.metrics import mean_squared_error\n",
    "import matplotlib.pyplot as plt\n",
    "\n",
    "# Assuming amazon_monthly and sp500_monthly have 'returns' columns for monthly returns\n",
    "X = sp500_monthly[['prccm']].values  # S&P 500 prices as independent variable\n",
    "y = amazon_monthly['PRC'].values    # Amazon prices as dependent variable\n",
    "\n",
    "# Split the data into training and testing sets\n",
    "X_train, X_test, y_train, y_test = train_test_split(X, y, test_size=0.2, random_state=42)\n",
    "\n",
    "# Create and fit the linear regression model on the training set\n",
    "model = LinearRegression()\n",
    "model.fit(X_train, y_train)\n",
    "\n",
    "# Predict Amazon prices on the test set\n",
    "y_pred_lr = model.predict(X_test)\n",
    "\n",
    "# Calculate the mean squared error on the test set\n",
    "mse_lr = mean_squared_error(y_test, y_pred_lr)\n",
    "print(\"Mean Squared Error for Linear Regression:\", mse_lr)\n",
    "\n",
    "# Optional: Plot actual vs. predicted prices for visual inspection\n",
    "plt.scatter(X_test, y_test, color='blue', label='Actual Prices')\n",
    "plt.scatter(X_test, y_pred_lr, color='red', label='Predicted Prices')\n",
    "plt.title('Linear Regression: Actual vs Predicted Amazon Prices')\n",
    "plt.xlabel('S&P 500 Prices')\n",
    "plt.ylabel('Amazon Prices')\n",
    "plt.legend()\n",
    "plt.show()"
   ]
  },
  {
   "cell_type": "code",
   "execution_count": 66,
   "metadata": {},
   "outputs": [
    {
     "data": {
      "image/png": "[encoded data removed]",
      "text/plain": [
       "<Figure size 432x288 with 1 Axes>"
      ]
     },
     "metadata": {
      "needs_background": "light"
     },
     "output_type": "display_data"
    }
   ],
   "source": [
    "plt.scatter(X_test, y_test, color='blue', label='Actual Returns')  # Actual data points\n",
    "plt.plot(X_test, y_pred_lr, color='red', label='Predicted Returns')  # Regression line\n",
    "\n",
    "# Additionally, plot a line of perfect predictions for reference\n",
    "# It will help to visually assess the accuracy of the model\n",
    "plt.plot([min(X_test), max(X_test)], [min(y_test), max(y_test)], color='green', linestyle='--', label='Perfect Fit')\n",
    "\n",
    "plt.xlabel('S&P 500 Returns')\n",
    "plt.ylabel('Amazon Returns')\n",
    "plt.title('Linear Regression: Actual vs Predicted Amazon Returns')\n",
    "plt.legend()\n",
    "plt.show()"
   ]
  },
  {
   "cell_type": "markdown",
   "metadata": {},
   "source": [
    "## Random Forest"
   ]
  },
  {
   "cell_type": "code",
   "execution_count": 67,
   "metadata": {},
   "outputs": [],
   "source": [
    "from sklearn.ensemble import RandomForestRegressor\n",
    "from sklearn.model_selection import train_test_split\n",
    "from sklearn.metrics import mean_squared_error\n",
    "import matplotlib.pyplot as plt\n",
    "import numpy as np"
   ]
  },
  {
   "cell_type": "code",
   "execution_count": 68,
   "metadata": {},
   "outputs": [],
   "source": [
    "# Split the data into training and testing sets\n",
    "X_train, X_test, y_train, y_test = train_test_split(X, y, test_size=0.2, random_state=42)"
   ]
  },
  {
   "cell_type": "code",
   "execution_count": 69,
   "metadata": {},
   "outputs": [],
   "source": [
    "# Initialize the Random Forest model\n",
    "rf_model = RandomForestRegressor(n_estimators=100, random_state=0)\n",
    "\n",
    "# Fit the model\n",
    "rf_model.fit(X_train, y_train)\n",
    "\n",
    "# Predicting on the test set\n",
    "y_pred = rf_model.predict(X_test)"
   ]
  },
  {
   "cell_type": "code",
   "execution_count": 70,
   "metadata": {},
   "outputs": [
    {
     "name": "stdout",
     "output_type": "stream",
     "text": [
      "Mean Squared Error: 471566.74278984143\n"
     ]
    }
   ],
   "source": [
    "# Calculate and print the mean squared error\n",
    "mse = mean_squared_error(y_test, y_pred)\n",
    "print(\"Mean Squared Error:\", mse)"
   ]
  },
  {
   "cell_type": "code",
   "execution_count": 71,
   "metadata": {},
   "outputs": [
    {
     "data": {
      "image/png": "[encoded data removed]",
      "text/plain": [
       "<Figure size 432x288 with 1 Axes>"
      ]
     },
     "metadata": {
      "needs_background": "light"
     },
     "output_type": "display_data"
    }
   ],
   "source": [
    "plt.scatter(y_test, y_pred, color='blue', label='Predictions')\n",
    "plt.plot([min(y_test), max(y_test)], [min(y_test), max(y_test)], color='red', label='Perfect Fit')\n",
    "plt.xlabel('Actual Returns')\n",
    "plt.ylabel('Predicted Returns')\n",
    "plt.title('Random Forest Model Predictions vs Actual')\n",
    "plt.legend()\n",
    "plt.show()"
   ]
  },
  {
   "cell_type": "markdown",
   "metadata": {},
   "source": [
    "## Time Series Analysis on Daily Closing Data"
   ]
  },
  {
   "cell_type": "code",
   "execution_count": 72,
   "metadata": {},
   "outputs": [],
   "source": [
    "# import pandas as pd\n",
    "# import numpy as np\n",
    "# import matplotlib.pyplot as plt\n",
    "# from statsmodels.tsa.stattools import adfuller\n",
    "# from statsmodels.tsa.seasonal import seasonal_decompose\n",
    "# from statsmodels.tsa.statespace.sarimax import SARIMAX\n",
    "# from sklearn.metrics import mean_squared_error\n",
    "\n",
    "# # Read the CSV files\n",
    "# amazon_daily = pd.read_csv('/Users/surya/Desktop/FE-511/FE511/Final PRoject/amzn_daily_wallstreet_HistoricalPrices.csv', parse_dates=['Date'], index_col='Date')\n",
    "# sp500_daily = pd.read_csv('/Users/surya/Desktop/FE-511/FE511/Final PRoject/S&P_daily_wallstreet_HistoricalPrices.csv', parse_dates=['Date'], index_col='Date')\n",
    "\n",
    "# # Quick visualization of the closing prices\n",
    "# amazon_daily[' Close'].plot(title='Amazon Daily Closing Prices', figsize=(10, 5))\n",
    "# plt.show()\n",
    "# sp500_daily[' Close'].plot(title='S&P 500 Daily Closing Prices', figsize=(10, 5))\n",
    "# plt.show()"
   ]
  },
  {
   "cell_type": "code",
   "execution_count": 73,
   "metadata": {},
   "outputs": [],
   "source": [
    "# # Testing for stationarity with the Augmented Dickey-Fuller test\n",
    "# adf_result_amazon = adfuller(amazon_daily[' Close'])\n",
    "# print('ADF Statistic for Amazon: %f' % adf_result_amazon[0])\n",
    "# print('p-value for Amazon: %f' % adf_result_amazon[1])\n",
    "\n",
    "# adf_result_sp500 = adfuller(sp500_daily[' Close'])\n",
    "# print('ADF Statistic for S&P 500: %f' % adf_result_sp500[0])\n",
    "# print('p-value for S&P 500: %f' % adf_result_sp500[1])"
   ]
  },
  {
   "cell_type": "code",
   "execution_count": 74,
   "metadata": {},
   "outputs": [],
   "source": [
    "# # Decomposing the time series (if needed)\n",
    "# decomposition = seasonal_decompose(amazon_daily[' Close'], model='multiplicative', period=30)\n",
    "# decomposition.plot()\n",
    "# plt.show()"
   ]
  },
  {
   "cell_type": "code",
   "execution_count": 75,
   "metadata": {},
   "outputs": [],
   "source": [
    "# # Differencing the series once\n",
    "# amazon_daily_diff = amazon_daily[' Close'].diff().dropna()\n",
    "\n",
    "# # Perform ADF test again on differenced series\n",
    "# adf_result_amazon_diff = adfuller(amazon_daily_diff)\n",
    "# print('ADF Statistic for differenced Amazon: %f' % adf_result_amazon_diff[0])\n",
    "# print('p-value for differenced Amazon: %f' % adf_result_amazon_diff[1])\n"
   ]
  },
  {
   "cell_type": "code",
   "execution_count": 76,
   "metadata": {},
   "outputs": [],
   "source": [
    "# # Applying a log transformation\n",
    "# amazon_daily_log = np.log(amazon_daily[' Close'])\n",
    "\n",
    "# # Perform ADF test again on logged series\n",
    "# adf_result_amazon_log = adfuller(amazon_daily_log.dropna())\n",
    "# print('ADF Statistic for logged Amazon: %f' % adf_result_amazon_log[0])\n",
    "# print('p-value for logged Amazon: %f' % adf_result_amazon_log[1])\n"
   ]
  },
  {
   "cell_type": "code",
   "execution_count": 77,
   "metadata": {},
   "outputs": [],
   "source": [
    "# # Decomposing the series\n",
    "# decomposition = seasonal_decompose(amazon_daily[' Close'], model='multiplicative', period=30)\n",
    "# residual = decomposition.resid.dropna()\n",
    "\n",
    "# # Perform ADF test again on residuals\n",
    "# adf_result_residual = adfuller(residual)\n",
    "# print('ADF Statistic for residuals: %f' % adf_result_residual[0])\n",
    "# print('p-value for residuals: %f' % adf_result_residual[1])\n"
   ]
  },
  {
   "cell_type": "code",
   "execution_count": 78,
   "metadata": {},
   "outputs": [],
   "source": [
    "# from statsmodels.tsa.stattools import adfuller\n",
    "\n",
    "# # Let's say you've already differenced the data once and stored it in amazon_daily_diff\n",
    "# # Now you run the ADF test again on this differenced data\n",
    "\n",
    "# adf_test_diff = adfuller(amazon_daily_diff)\n",
    "\n",
    "# print('ADF Statistic for differenced data: %f' % adf_test_diff[0])\n",
    "# print('p-value for differenced data: %f' % adf_test_diff[1])\n",
    "# print('Critical Values:')\n",
    "# for key, value in adf_test_diff[4].items():\n",
    "#     print('\\t%s: %.3f' % (key, value))\n"
   ]
  },
  {
   "cell_type": "code",
   "execution_count": 79,
   "metadata": {},
   "outputs": [],
   "source": [
    "#!pip install pmdarima"
   ]
  },
  {
   "cell_type": "code",
   "execution_count": 80,
   "metadata": {},
   "outputs": [],
   "source": [
    "# from pmdarima import auto_arima\n",
    "# from statsmodels.tsa.statespace.sarimax import SARIMAX"
   ]
  },
  {
   "cell_type": "code",
   "execution_count": 81,
   "metadata": {},
   "outputs": [],
   "source": [
    "# Read the CSV file\n",
    "# amazon_daily = pd.read_csv('/Users/surya/Desktop/FE-511/FE511/Final PRoject/amzn_daily_wallstreet_HistoricalPrices.csv')"
   ]
  },
  {
   "cell_type": "code",
   "execution_count": 82,
   "metadata": {},
   "outputs": [],
   "source": [
    "# Strip whitespace from column names\n",
    "# amazon_daily.columns = amazon_daily.columns.str.strip()"
   ]
  },
  {
   "cell_type": "code",
   "execution_count": 83,
   "metadata": {},
   "outputs": [],
   "source": [
    "# amazon_daily.head(5)"
   ]
  },
  {
   "cell_type": "code",
   "execution_count": 84,
   "metadata": {},
   "outputs": [],
   "source": [
    "# amazon_daily_diff.head(5)"
   ]
  },
  {
   "cell_type": "code",
   "execution_count": 85,
   "metadata": {},
   "outputs": [],
   "source": [
    "# # Convert the index to a datetime object and sort it\n",
    "# amazon_daily_diff.index = pd.to_datetime(amazon_daily_diff.index)\n",
    "# amazon_daily_diff = amazon_daily_diff.sort_index()\n",
    "\n",
    "# # Assuming amazon_daily_diff is already loaded as shown in the screenshot\n",
    "# amazon_daily_diff.index = pd.DatetimeIndex(amazon_daily_diff.index).to_period('D')\n",
    "# amazon_daily_diff = amazon_daily_diff.sort_index()\n",
    "\n",
    "# # Handle NaN values appropriately\n",
    "# amazon_daily_diff = amazon_daily_diff.fillna(method='ffill')  # or interpolate or dropna\n",
    "\n",
    "# # Convert the 'Date' column to datetime\n",
    "# amazon_daily['Date'] = pd.to_datetime(amazon_daily['Date'])\n",
    "\n",
    "# # Set the 'Date' column as the index\n",
    "# amazon_daily.set_index('Date', inplace=True)\n",
    "\n",
    "# # Auto ARIMA to find optimal parameters\n",
    "# stepwise_model = auto_arima(amazon_daily_diff['Close'], start_p=1, start_q=1,\n",
    "#                             max_p=3, max_q=3, m=12,\n",
    "#                             start_P=0, seasonal=True,\n",
    "#                             d=1, D=1, trace=True,\n",
    "#                             error_action='ignore',  \n",
    "#                             suppress_warnings=True, \n",
    "#                             stepwise=True)\n",
    "\n",
    "# # Split data into train and test sets\n",
    "# train = amazon_daily_diff['Close'].iloc[:-30]\n",
    "# test = amazon_daily_diff['Close'].iloc[-30:]\n",
    "\n",
    "# # Fit SARIMAX model\n",
    "# model = SARIMAX(train, order=stepwise_model.order, seasonal_order=stepwise_model.seasonal_order,\n",
    "#                 enforce_stationarity=False, enforce_invertibility=False)\n",
    "# model_fit = model.fit()\n",
    "\n",
    "# # Forecast\n",
    "# forecast = model_fit.get_forecast(steps=30)\n",
    "# predicted_mean = forecast.predicted_mean\n",
    "# conf_int = forecast.conf_int()\n",
    "\n",
    "# # Plot the results\n",
    "# plt.figure(figsize=(10, 5))\n",
    "# plt.plot(amazon_daily_diff['Close'], label='Observed')\n",
    "# plt.plot(predicted_mean.index, predicted_mean, color='r', label='Forecast')\n",
    "# plt.fill_between(conf_int.index, conf_int.iloc[:, 0], conf_int.iloc[:, 1], color='pink', alpha=0.3)\n",
    "# plt.legend()\n",
    "# plt.show()\n"
   ]
  },
  {
   "cell_type": "code",
   "execution_count": 86,
   "metadata": {},
   "outputs": [],
   "source": [
    "# # Convert the index to a datetime object and sort it\n",
    "# amazon_daily_diff.index = pd.to_datetime(amazon_daily_diff.index)\n",
    "# amazon_daily_diff = amazon_daily_diff.sort_index()\n",
    "\n",
    "# # Handle NaN values\n",
    "# amazon_daily_diff = amazon_daily_diff.fillna(method='ffill')  # or use .dropna()\n",
    "\n",
    "\n",
    "# # Check if the index is unique and monotonically increasing\n",
    "# if not amazon_daily_diff.index.is_unique:\n",
    "#     raise ValueError(\"Index has duplicates.\")\n",
    "# if not amazon_daily_diff.index.is_monotonic_increasing:\n",
    "#     raise ValueError(\"Index should be monotonically increasing.\")\n",
    "\n",
    "# # Assuming the data is daily, you can set the frequency to 'D'\n",
    "# amazon_daily_diff = amazon_daily_diff.asfreq('D')\n",
    "\n",
    "# # Auto ARIMA: automatically discover the optimal order for an ARIMA model\n",
    "# stepwise_model = auto_arima(amazon_daily_diff, start_p=1, start_q=1,\n",
    "#                             max_p=3, max_q=3, m=12,\n",
    "#                             start_P=0, seasonal=True,\n",
    "#                             d=1, D=1, trace=True,\n",
    "#                             error_action='ignore',  \n",
    "#                             suppress_warnings=True, \n",
    "#                             stepwise=True)\n",
    "\n",
    "# print(f\"AIC: {stepwise_model.aic()}\")\n",
    "# print(f\"Optimal parameters: {stepwise_model.order}, seasonal order: {stepwise_model.seasonal_order}\")\n",
    "\n",
    "# # Split data into train and test sets\n",
    "# train = amazon_daily_diff.iloc[:-30]\n",
    "# test = amazon_daily_diff.iloc[-30:]\n",
    "\n",
    "# # Fit the SARIMAX model with the orders found by auto_arima\n",
    "# model = SARIMAX(train, order=stepwise_model.order, seasonal_order=stepwise_model.seasonal_order)\n",
    "# model_fit = model.fit(disp=False)\n",
    "\n",
    "# # Make prediction for the differenced series\n",
    "# prediction = model_fit.get_forecast(steps=30)\n",
    "# predicted_mean_diff = prediction.predicted_mean\n",
    "# confidence_intervals_diff = prediction.conf_int()\n",
    "\n",
    "# # Invert the differencing to get the forecast in original scale\n",
    "# last_obs_value = amazon_daily[' Close'].iloc[-30-1]  # The last observation before the test set\n",
    "# predicted_mean = predicted_mean_diff.cumsum() + last_obs_value\n",
    "\n",
    "# # # Strip whitespace from column names\n",
    "# # amazon_daily.columns = amazon_daily.columns.str.strip()"
   ]
  },
  {
   "cell_type": "code",
   "execution_count": 87,
   "metadata": {},
   "outputs": [],
   "source": [
    "# # Assuming 'amazon_daily' is a pandas DataFrame with 'Close' as one of its columns\n",
    "# # Convert index and 'Close' column to numpy arrays\n",
    "# dates = amazon_daily.index.to_numpy()\n",
    "# close_prices = amazon_daily[' Close'].to_numpy()\n",
    "\n",
    "# # Slice the last 60 data points for plotting\n",
    "# dates_slice = dates[-60:]\n",
    "# close_prices_slice = close_prices[-60:]\n",
    "\n",
    "# # Plot the data\n",
    "# plt.figure(figsize=(10, 5))\n",
    "# plt.plot(dates_slice, close_prices_slice, label='Observed')\n",
    "# plt.legend()\n",
    "# plt.show()\n"
   ]
  },
  {
   "cell_type": "code",
   "execution_count": 88,
   "metadata": {},
   "outputs": [],
   "source": [
    "# # Plot the results\n",
    "# # Convert to NumPy array\n",
    "# close_prices = amazon_daily[' Close'].to_numpy()\n",
    "\n",
    "# # plt.figure(figsize=(10, 5))\n",
    "# # plt.plot(amazon_daily[' Close'].index[-60:], amazon_daily[' Close'].iloc[-60:], label='Observed')\n",
    "# plt.figure(figsize=(10, 5))\n",
    "# plt.plot(amazon_daily.index[-60:], close_prices[-60:], label='Observed')\n",
    "# plt.plot(test.index, predicted_mean, color='r', label='Forecast')\n",
    "# plt.fill_between(confidence_intervals_diff.index,\n",
    "#                  confidence_intervals_diff.iloc[:, 0].cumsum() + last_obs_value,\n",
    "#                  confidence_intervals_diff.iloc[:, 1].cumsum() + last_obs_value, color='pink', alpha=0.3)\n",
    "# plt.legend()\n",
    "# plt.show()"
   ]
  },
  {
   "cell_type": "code",
   "execution_count": 93,
   "metadata": {},
   "outputs": [],
   "source": [
    "# import matplotlib.pyplot as plt\n",
    "\n",
    "# # Assuming 'amazon_daily' is your DataFrame with 'Date' as the index\n",
    "# # Ensure 'Close' is the column you want to plot\n",
    "\n",
    "# plt.figure(figsize=(15, 7))\n",
    "# plt.plot(amazon_daily[' Close'], label='Close Price')  # Plot the closing prices\n",
    "# plt.title('Amazon Daily Closing Prices')\n",
    "# plt.xlabel('Date')\n",
    "# plt.ylabel('Price')\n",
    "# plt.legend()\n",
    "# plt.show()\n"
   ]
  },
  {
   "cell_type": "code",
   "execution_count": 90,
   "metadata": {},
   "outputs": [],
   "source": [
    "# Print column names to check for extra whitespace\n",
    "# print(amazon_daily.columns)"
   ]
  },
  {
   "cell_type": "code",
   "execution_count": 91,
   "metadata": {},
   "outputs": [],
   "source": [
    "# amazon_daily.head(10)"
   ]
  },
  {
   "cell_type": "code",
   "execution_count": 92,
   "metadata": {},
   "outputs": [],
   "source": [
    "# # Convert the 'Date' column to datetime if it's not already\n",
    "# amazon_daily['Date'] = pd.to_datetime(amazon_daily['Date'])\n",
    "\n",
    "# # Set the 'Date' column as the index of the DataFrame\n",
    "# amazon_daily.set_index('Date', inplace=True)\n"
   ]
  },
  {
   "cell_type": "markdown",
   "metadata": {},
   "source": [
    "# Trial 2"
   ]
  },
  {
   "cell_type": "code",
   "execution_count": 94,
   "metadata": {},
   "outputs": [],
   "source": [
    "import pandas as pd\n",
    "import numpy as np\n",
    "from statsmodels.tsa.stattools import adfuller\n",
    "from scipy.stats import pearsonr\n",
    "import matplotlib.pyplot as plt"
   ]
  },
  {
   "cell_type": "code",
   "execution_count": 96,
   "metadata": {},
   "outputs": [],
   "source": [
    "# # Load your datasets\n",
    "# amazon_df = pd.read_csv('/Users/surya/Desktop/FE-511/FE511/Final PRoject/amzn_daily_wallstreet_HistoricalPrices.csv', parse_dates=['Date'], index_col='Date')\n",
    "# sp500_df = pd.read_csv('/Users/surya/Desktop/FE-511/FE511/Final PRoject/S&P_daily_wallstreet_HistoricalPrices.csv', parse_dates=['Date'], index_col='Date')"
   ]
  },
  {
   "cell_type": "code",
   "execution_count": 101,
   "metadata": {},
   "outputs": [
    {
     "name": "stderr",
     "output_type": "stream",
     "text": [
      "/var/folders/13/vzz1wpdx7v71md6284hwnky40000gn/T/ipykernel_24461/4407177.py:6: UserWarning: Could not infer format, so each element will be parsed individually, falling back to `dateutil`. To ensure parsing is consistent and as-expected, please specify a format.\n",
      "  amazon_df = pd.read_csv(\n",
      "/var/folders/13/vzz1wpdx7v71md6284hwnky40000gn/T/ipykernel_24461/4407177.py:12: UserWarning: Could not infer format, so each element will be parsed individually, falling back to `dateutil`. To ensure parsing is consistent and as-expected, please specify a format.\n",
      "  sp500_df = pd.read_csv(\n"
     ]
    }
   ],
   "source": [
    "# Define the CSV file path\n",
    "csv_file_path_amzn = '/Users/surya/Desktop/FE-511/FE511/Final PRoject/amzn_daily_wallstreet_HistoricalPrices.csv'\n",
    "csv_file_path_sp500 = '/Users/surya/Desktop/FE-511/FE511/Final PRoject/S&P_daily_wallstreet_HistoricalPrices.csv'\n",
    "\n",
    "# Read the CSV file using pandas with the date_format parameter\n",
    "amazon_df = pd.read_csv(\n",
    "    csv_file_path_amzn,\n",
    "    parse_dates=['Date'],\n",
    "    index_col='Date'\n",
    ")\n",
    "\n",
    "sp500_df = pd.read_csv(\n",
    "    csv_file_path_sp500,\n",
    "    parse_dates=['Date'],\n",
    "    index_col='Date'\n",
    ")\n",
    "\n"
   ]
  },
  {
   "cell_type": "code",
   "execution_count": 100,
   "metadata": {},
   "outputs": [
    {
     "data": {
      "text/html": [
       "<div>\n",
       "<style scoped>\n",
       "    .dataframe tbody tr th:only-of-type {\n",
       "        vertical-align: middle;\n",
       "    }\n",
       "\n",
       "    .dataframe tbody tr th {\n",
       "        vertical-align: top;\n",
       "    }\n",
       "\n",
       "    .dataframe thead th {\n",
       "        text-align: right;\n",
       "    }\n",
       "</style>\n",
       "<table border=\"1\" class=\"dataframe\">\n",
       "  <thead>\n",
       "    <tr style=\"text-align: right;\">\n",
       "      <th></th>\n",
       "      <th>Open</th>\n",
       "      <th>High</th>\n",
       "      <th>Low</th>\n",
       "      <th>Close</th>\n",
       "      <th>Volume</th>\n",
       "    </tr>\n",
       "    <tr>\n",
       "      <th>Date</th>\n",
       "      <th></th>\n",
       "      <th></th>\n",
       "      <th></th>\n",
       "      <th></th>\n",
       "      <th></th>\n",
       "    </tr>\n",
       "  </thead>\n",
       "  <tbody>\n",
       "    <tr>\n",
       "      <th>2022-12-30</th>\n",
       "      <td>83.12</td>\n",
       "      <td>84.05</td>\n",
       "      <td>82.4700</td>\n",
       "      <td>84.00</td>\n",
       "      <td>62401191.0</td>\n",
       "    </tr>\n",
       "    <tr>\n",
       "      <th>2022-12-29</th>\n",
       "      <td>82.87</td>\n",
       "      <td>84.55</td>\n",
       "      <td>82.5500</td>\n",
       "      <td>84.18</td>\n",
       "      <td>54995898.0</td>\n",
       "    </tr>\n",
       "    <tr>\n",
       "      <th>2022-12-28</th>\n",
       "      <td>82.80</td>\n",
       "      <td>83.48</td>\n",
       "      <td>81.6900</td>\n",
       "      <td>81.82</td>\n",
       "      <td>58228578.0</td>\n",
       "    </tr>\n",
       "    <tr>\n",
       "      <th>2022-12-27</th>\n",
       "      <td>84.97</td>\n",
       "      <td>85.35</td>\n",
       "      <td>83.0000</td>\n",
       "      <td>83.04</td>\n",
       "      <td>57284039.0</td>\n",
       "    </tr>\n",
       "    <tr>\n",
       "      <th>2022-12-23</th>\n",
       "      <td>83.25</td>\n",
       "      <td>85.78</td>\n",
       "      <td>82.9344</td>\n",
       "      <td>85.25</td>\n",
       "      <td>57433660.0</td>\n",
       "    </tr>\n",
       "  </tbody>\n",
       "</table>\n",
       "</div>"
      ],
      "text/plain": [
       "             Open   High      Low   Close      Volume\n",
       "Date                                                 \n",
       "2022-12-30  83.12  84.05  82.4700   84.00  62401191.0\n",
       "2022-12-29  82.87  84.55  82.5500   84.18  54995898.0\n",
       "2022-12-28  82.80  83.48  81.6900   81.82  58228578.0\n",
       "2022-12-27  84.97  85.35  83.0000   83.04  57284039.0\n",
       "2022-12-23  83.25  85.78  82.9344   85.25  57433660.0"
      ]
     },
     "execution_count": 100,
     "metadata": {},
     "output_type": "execute_result"
    }
   ],
   "source": [
    "amazon_df.head(5)"
   ]
  },
  {
   "cell_type": "code",
   "execution_count": 103,
   "metadata": {},
   "outputs": [
    {
     "name": "stdout",
     "output_type": "stream",
     "text": [
      "Amazon Stationarity Check:\n",
      "ADF Statistic: -1.705449\n",
      "p-value: 0.428307\n",
      "Critical Values:\n",
      "\t1%: -3.436\n",
      "\t5%: -2.864\n",
      "\t10%: -2.568\n",
      "Series is not stationary\n",
      "\n",
      "S&P 500 Stationarity Check:\n",
      "ADF Statistic: -1.235891\n",
      "p-value: 0.657969\n",
      "Critical Values:\n",
      "\t1%: -3.436\n",
      "\t5%: -2.864\n",
      "\t10%: -2.568\n",
      "Series is not stationary\n",
      "ADF Statistic: -36.137465\n",
      "p-value: 0.000000\n",
      "Critical Values:\n",
      "\t1%: -3.436\n",
      "\t5%: -2.864\n",
      "\t10%: -2.568\n",
      "Series is stationary\n",
      "ADF Statistic: -11.040502\n",
      "p-value: 0.000000\n",
      "Critical Values:\n",
      "\t1%: -3.436\n",
      "\t5%: -2.864\n",
      "\t10%: -2.568\n",
      "Series is stationary\n",
      "\n",
      "Pearson correlation: 0.6668625809683743, p-value: 1.225944646692143e-162\n"
     ]
    },
    {
     "data": {
      "image/png": "[encoded data removed]",
      "text/plain": [
       "<Figure size 1008x504 with 2 Axes>"
      ]
     },
     "metadata": {
      "needs_background": "light"
     },
     "output_type": "display_data"
    }
   ],
   "source": [
    "import pandas as pd\n",
    "import numpy as np\n",
    "from statsmodels.tsa.stattools import adfuller\n",
    "from scipy.stats import pearsonr\n",
    "import matplotlib.pyplot as plt\n",
    "\n",
    "# Assuming you have two CSV files: 'amazon_daily.csv' and 'sp500_daily.csv'\n",
    "# Both files should have a 'Date' column and a 'Close' column\n",
    "\n",
    "# # Load your datasets\n",
    "# amazon_df = pd.read_csv('amazon_daily.csv', parse_dates=['Date'], index_col='Date')\n",
    "# sp500_df = pd.read_csv('sp500_daily.csv', parse_dates=['Date'], index_col='Date')\n",
    "\n",
    "# Make sure they are sorted\n",
    "amazon_df.sort_index(inplace=True)\n",
    "sp500_df.sort_index(inplace=True)\n",
    "\n",
    "# Function to check stationarity\n",
    "def check_stationarity(timeseries):\n",
    "    result = adfuller(timeseries, autolag='AIC')\n",
    "    print('ADF Statistic: %f' % result[0])\n",
    "    print('p-value: %f' % result[1])\n",
    "    print('Critical Values:')\n",
    "    for key, value in result[4].items():\n",
    "        print('\\t%s: %.3f' % (key, value))\n",
    "    if result[1] > 0.05:\n",
    "        print(\"Series is not stationary\")\n",
    "    else:\n",
    "        print(\"Series is stationary\")\n",
    "\n",
    "# Check stationarity\n",
    "print(\"Amazon Stationarity Check:\")\n",
    "check_stationarity(amazon_df[' Close'])\n",
    "print(\"\\nS&P 500 Stationarity Check:\")\n",
    "check_stationarity(sp500_df[' Close'])\n",
    "\n",
    "# Function to make series stationary\n",
    "def make_stationary(timeseries):\n",
    "    timeseries_diff = timeseries.diff().dropna()\n",
    "    check_stationarity(timeseries_diff)\n",
    "    return timeseries_diff\n",
    "\n",
    "# Stationarize if necessary\n",
    "amazon_diff = make_stationary(amazon_df[' Close'])\n",
    "sp500_diff = make_stationary(sp500_df[' Close'])\n",
    "\n",
    "# Align the series\n",
    "combined_df = pd.concat([amazon_diff, sp500_diff], axis=1, join='inner')\n",
    "combined_df.columns = ['Amazon', 'SP500']\n",
    "\n",
    "# Check for NaN values and handle them if necessary\n",
    "combined_df.dropna(inplace=True)\n",
    "\n",
    "# Compute Pearson correlation\n",
    "correlation, p_value = pearsonr(combined_df['Amazon'], combined_df['SP500'])\n",
    "print(f'\\nPearson correlation: {correlation}, p-value: {p_value}')\n",
    "\n",
    "# Plotting the differenced series\n",
    "plt.figure(figsize=(14, 7))\n",
    "plt.subplot(2,1,1)\n",
    "plt.plot(amazon_diff, label='Amazon Differenced')\n",
    "plt.legend()\n",
    "plt.subplot(2,1,2)\n",
    "plt.plot(sp500_diff, label='S&P 500 Differenced')\n",
    "plt.legend()\n",
    "plt.show()"
   ]
  },
  {
   "cell_type": "code",
   "execution_count": 106,
   "metadata": {},
   "outputs": [
    {
     "data": {
      "text/html": [
       "<div>\n",
       "<style scoped>\n",
       "    .dataframe tbody tr th:only-of-type {\n",
       "        vertical-align: middle;\n",
       "    }\n",
       "\n",
       "    .dataframe tbody tr th {\n",
       "        vertical-align: top;\n",
       "    }\n",
       "\n",
       "    .dataframe thead th {\n",
       "        text-align: right;\n",
       "    }\n",
       "</style>\n",
       "<table border=\"1\" class=\"dataframe\">\n",
       "  <thead>\n",
       "    <tr style=\"text-align: right;\">\n",
       "      <th></th>\n",
       "      <th>Amazon</th>\n",
       "      <th>SP500</th>\n",
       "    </tr>\n",
       "    <tr>\n",
       "      <th>Date</th>\n",
       "      <th></th>\n",
       "      <th></th>\n",
       "    </tr>\n",
       "  </thead>\n",
       "  <tbody>\n",
       "    <tr>\n",
       "      <th>2018-01-03</th>\n",
       "      <td>0.7595</td>\n",
       "      <td>17.25</td>\n",
       "    </tr>\n",
       "    <tr>\n",
       "      <th>2018-01-04</th>\n",
       "      <td>0.2695</td>\n",
       "      <td>10.93</td>\n",
       "    </tr>\n",
       "    <tr>\n",
       "      <th>2018-01-05</th>\n",
       "      <td>0.9775</td>\n",
       "      <td>19.16</td>\n",
       "    </tr>\n",
       "    <tr>\n",
       "      <th>2018-01-08</th>\n",
       "      <td>0.8865</td>\n",
       "      <td>4.56</td>\n",
       "    </tr>\n",
       "    <tr>\n",
       "      <th>2018-01-09</th>\n",
       "      <td>0.2915</td>\n",
       "      <td>3.58</td>\n",
       "    </tr>\n",
       "    <tr>\n",
       "      <th>2018-01-10</th>\n",
       "      <td>0.0815</td>\n",
       "      <td>-3.06</td>\n",
       "    </tr>\n",
       "    <tr>\n",
       "      <th>2018-01-11</th>\n",
       "      <td>1.1175</td>\n",
       "      <td>19.33</td>\n",
       "    </tr>\n",
       "    <tr>\n",
       "      <th>2018-01-12</th>\n",
       "      <td>1.4260</td>\n",
       "      <td>18.68</td>\n",
       "    </tr>\n",
       "    <tr>\n",
       "      <th>2018-01-16</th>\n",
       "      <td>-0.0170</td>\n",
       "      <td>-9.82</td>\n",
       "    </tr>\n",
       "    <tr>\n",
       "      <th>2018-01-17</th>\n",
       "      <td>-0.4930</td>\n",
       "      <td>26.14</td>\n",
       "    </tr>\n",
       "  </tbody>\n",
       "</table>\n",
       "</div>"
      ],
      "text/plain": [
       "            Amazon  SP500\n",
       "Date                     \n",
       "2018-01-03  0.7595  17.25\n",
       "2018-01-04  0.2695  10.93\n",
       "2018-01-05  0.9775  19.16\n",
       "2018-01-08  0.8865   4.56\n",
       "2018-01-09  0.2915   3.58\n",
       "2018-01-10  0.0815  -3.06\n",
       "2018-01-11  1.1175  19.33\n",
       "2018-01-12  1.4260  18.68\n",
       "2018-01-16 -0.0170  -9.82\n",
       "2018-01-17 -0.4930  26.14"
      ]
     },
     "execution_count": 106,
     "metadata": {},
     "output_type": "execute_result"
    }
   ],
   "source": [
    "combined_df.head(10)"
   ]
  },
  {
   "cell_type": "code",
   "execution_count": 107,
   "metadata": {},
   "outputs": [],
   "source": [
    "combined_df.index = pd.DatetimeIndex(combined_df.index).to_period('D')"
   ]
  },
  {
   "cell_type": "code",
   "execution_count": 108,
   "metadata": {},
   "outputs": [
    {
     "data": {
      "text/html": [
       "<div>\n",
       "<style scoped>\n",
       "    .dataframe tbody tr th:only-of-type {\n",
       "        vertical-align: middle;\n",
       "    }\n",
       "\n",
       "    .dataframe tbody tr th {\n",
       "        vertical-align: top;\n",
       "    }\n",
       "\n",
       "    .dataframe thead th {\n",
       "        text-align: right;\n",
       "    }\n",
       "</style>\n",
       "<table border=\"1\" class=\"dataframe\">\n",
       "  <thead>\n",
       "    <tr style=\"text-align: right;\">\n",
       "      <th></th>\n",
       "      <th>Amazon</th>\n",
       "      <th>SP500</th>\n",
       "    </tr>\n",
       "    <tr>\n",
       "      <th>Date</th>\n",
       "      <th></th>\n",
       "      <th></th>\n",
       "    </tr>\n",
       "  </thead>\n",
       "  <tbody>\n",
       "    <tr>\n",
       "      <th>2018-01-03</th>\n",
       "      <td>0.7595</td>\n",
       "      <td>17.25</td>\n",
       "    </tr>\n",
       "    <tr>\n",
       "      <th>2018-01-04</th>\n",
       "      <td>0.2695</td>\n",
       "      <td>10.93</td>\n",
       "    </tr>\n",
       "    <tr>\n",
       "      <th>2018-01-05</th>\n",
       "      <td>0.9775</td>\n",
       "      <td>19.16</td>\n",
       "    </tr>\n",
       "    <tr>\n",
       "      <th>2018-01-08</th>\n",
       "      <td>0.8865</td>\n",
       "      <td>4.56</td>\n",
       "    </tr>\n",
       "    <tr>\n",
       "      <th>2018-01-09</th>\n",
       "      <td>0.2915</td>\n",
       "      <td>3.58</td>\n",
       "    </tr>\n",
       "    <tr>\n",
       "      <th>2018-01-10</th>\n",
       "      <td>0.0815</td>\n",
       "      <td>-3.06</td>\n",
       "    </tr>\n",
       "    <tr>\n",
       "      <th>2018-01-11</th>\n",
       "      <td>1.1175</td>\n",
       "      <td>19.33</td>\n",
       "    </tr>\n",
       "    <tr>\n",
       "      <th>2018-01-12</th>\n",
       "      <td>1.4260</td>\n",
       "      <td>18.68</td>\n",
       "    </tr>\n",
       "    <tr>\n",
       "      <th>2018-01-16</th>\n",
       "      <td>-0.0170</td>\n",
       "      <td>-9.82</td>\n",
       "    </tr>\n",
       "    <tr>\n",
       "      <th>2018-01-17</th>\n",
       "      <td>-0.4930</td>\n",
       "      <td>26.14</td>\n",
       "    </tr>\n",
       "  </tbody>\n",
       "</table>\n",
       "</div>"
      ],
      "text/plain": [
       "            Amazon  SP500\n",
       "Date                     \n",
       "2018-01-03  0.7595  17.25\n",
       "2018-01-04  0.2695  10.93\n",
       "2018-01-05  0.9775  19.16\n",
       "2018-01-08  0.8865   4.56\n",
       "2018-01-09  0.2915   3.58\n",
       "2018-01-10  0.0815  -3.06\n",
       "2018-01-11  1.1175  19.33\n",
       "2018-01-12  1.4260  18.68\n",
       "2018-01-16 -0.0170  -9.82\n",
       "2018-01-17 -0.4930  26.14"
      ]
     },
     "execution_count": 108,
     "metadata": {},
     "output_type": "execute_result"
    }
   ],
   "source": [
    "combined_df.head(10)"
   ]
  },
  {
   "cell_type": "code",
   "execution_count": 109,
   "metadata": {},
   "outputs": [
    {
     "name": "stdout",
     "output_type": "stream",
     "text": [
      "Performing stepwise search to minimize aic\n",
      " ARIMA(2,0,2)(1,0,1)[7] intercept   : AIC=6099.380, Time=3.38 sec\n",
      " ARIMA(0,0,0)(0,0,0)[7] intercept   : AIC=6103.529, Time=0.05 sec\n",
      " ARIMA(1,0,0)(1,0,0)[7] intercept   : AIC=6106.914, Time=0.20 sec\n",
      " ARIMA(0,0,1)(0,0,1)[7] intercept   : AIC=6106.936, Time=0.36 sec\n",
      " ARIMA(0,0,0)(0,0,0)[7]             : AIC=6101.593, Time=0.01 sec\n",
      " ARIMA(2,0,2)(0,0,1)[7] intercept   : AIC=6097.851, Time=2.17 sec\n",
      " ARIMA(2,0,2)(0,0,0)[7] intercept   : AIC=6095.868, Time=0.76 sec\n",
      " ARIMA(2,0,2)(1,0,0)[7] intercept   : AIC=6097.852, Time=1.84 sec\n",
      " ARIMA(1,0,2)(0,0,0)[7] intercept   : AIC=6105.914, Time=0.27 sec\n",
      " ARIMA(2,0,1)(0,0,0)[7] intercept   : AIC=6106.015, Time=0.24 sec\n",
      " ARIMA(3,0,2)(0,0,0)[7] intercept   : AIC=6097.701, Time=0.94 sec\n",
      " ARIMA(2,0,3)(0,0,0)[7] intercept   : AIC=6097.706, Time=1.22 sec\n",
      " ARIMA(1,0,1)(0,0,0)[7] intercept   : AIC=6104.886, Time=0.29 sec\n",
      " ARIMA(1,0,3)(0,0,0)[7] intercept   : AIC=6106.419, Time=0.38 sec\n",
      " ARIMA(3,0,1)(0,0,0)[7] intercept   : AIC=6106.702, Time=0.35 sec\n",
      " ARIMA(3,0,3)(0,0,0)[7] intercept   : AIC=6099.258, Time=1.37 sec\n",
      " ARIMA(2,0,2)(0,0,0)[7]             : AIC=6093.932, Time=0.46 sec\n",
      " ARIMA(2,0,2)(1,0,0)[7]             : AIC=6095.915, Time=1.03 sec\n",
      " ARIMA(2,0,2)(0,0,1)[7]             : AIC=6095.914, Time=1.23 sec\n",
      " ARIMA(2,0,2)(1,0,1)[7]             : AIC=6097.413, Time=1.82 sec\n",
      " ARIMA(1,0,2)(0,0,0)[7]             : AIC=6103.978, Time=0.13 sec\n",
      " ARIMA(2,0,1)(0,0,0)[7]             : AIC=6104.079, Time=0.19 sec\n",
      " ARIMA(3,0,2)(0,0,0)[7]             : AIC=6095.766, Time=0.47 sec\n",
      " ARIMA(2,0,3)(0,0,0)[7]             : AIC=6095.769, Time=0.58 sec\n",
      " ARIMA(1,0,1)(0,0,0)[7]             : AIC=6102.952, Time=0.10 sec\n",
      " ARIMA(1,0,3)(0,0,0)[7]             : AIC=6104.487, Time=0.13 sec\n",
      " ARIMA(3,0,1)(0,0,0)[7]             : AIC=6104.769, Time=0.14 sec\n",
      " ARIMA(3,0,3)(0,0,0)[7]             : AIC=6097.335, Time=0.75 sec\n",
      "\n",
      "Best model:  ARIMA(2,0,2)(0,0,0)[7]          \n",
      "Total fit time: 21.119 seconds\n",
      "                               SARIMAX Results                                \n",
      "==============================================================================\n",
      "Dep. Variable:                      y   No. Observations:                 1258\n",
      "Model:               SARIMAX(2, 0, 2)   Log Likelihood               -3041.966\n",
      "Date:                Tue, 19 Dec 2023   AIC                           6093.932\n",
      "Time:                        12:24:45   BIC                           6119.618\n",
      "Sample:                    01-03-2018   HQIC                          6103.585\n",
      "                         - 12-30-2022                                         \n",
      "Covariance Type:                  opg                                         \n",
      "==============================================================================\n",
      "                 coef    std err          z      P>|z|      [0.025      0.975]\n",
      "------------------------------------------------------------------------------\n",
      "ar.L1         -1.6952      0.015   -111.092      0.000      -1.725      -1.665\n",
      "ar.L2         -0.9613      0.015    -64.377      0.000      -0.991      -0.932\n",
      "ma.L1          1.6974      0.011    150.024      0.000       1.675       1.720\n",
      "ma.L2          0.9786      0.011     89.420      0.000       0.957       1.000\n",
      "sigma2         7.3738      0.160     46.087      0.000       7.060       7.687\n",
      "===================================================================================\n",
      "Ljung-Box (L1) (Q):                   0.15   Jarque-Bera (JB):              1882.91\n",
      "Prob(Q):                              0.70   Prob(JB):                         0.00\n",
      "Heteroskedasticity (H):               4.22   Skew:                            -0.22\n",
      "Prob(H) (two-sided):                  0.00   Kurtosis:                         8.98\n",
      "===================================================================================\n",
      "\n",
      "Warnings:\n",
      "[1] Covariance matrix calculated using the outer product of gradients (complex-step).\n",
      "RUNNING THE L-BFGS-B CODE\n",
      "\n",
      "           * * *\n",
      "\n",
      "Machine precision = 2.220D-16\n",
      " N =            5     M =           10\n",
      "\n",
      "At X0         0 variables are exactly at the bounds\n",
      "\n",
      "At iterate    0    f=  2.42930D+00    |proj g|=  8.43975D-03\n",
      "\n",
      "At iterate    5    f=  2.42894D+00    |proj g|=  7.07280D-03\n",
      "\n",
      "At iterate   10    f=  2.42792D+00    |proj g|=  1.91393D-03\n",
      "\n",
      "At iterate   15    f=  2.42743D+00    |proj g|=  1.37680D-02\n"
     ]
    },
    {
     "name": "stderr",
     "output_type": "stream",
     "text": [
      " This problem is unconstrained.\n"
     ]
    },
    {
     "name": "stdout",
     "output_type": "stream",
     "text": [
      "\n",
      "At iterate   20    f=  2.42532D+00    |proj g|=  2.05619D-02\n",
      "\n",
      "At iterate   25    f=  2.42483D+00    |proj g|=  2.10149D-03\n",
      "\n",
      "At iterate   30    f=  2.42433D+00    |proj g|=  6.81644D-03\n",
      "\n",
      "At iterate   35    f=  2.42429D+00    |proj g|=  3.63544D-04\n",
      "\n",
      "           * * *\n",
      "\n",
      "Tit   = total number of iterations\n",
      "Tnf   = total number of function evaluations\n",
      "Tnint = total number of segments explored during Cauchy searches\n",
      "Skip  = number of BFGS updates skipped\n",
      "Nact  = number of active bounds at final generalized Cauchy point\n",
      "Projg = norm of the final projected gradient\n",
      "F     = final function value\n",
      "\n",
      "           * * *\n",
      "\n",
      "   N    Tit     Tnf  Tnint  Skip  Nact     Projg        F\n",
      "    5     38     49      1     0     0   6.768D-06   2.424D+00\n",
      "  F =   2.4242848988753196     \n",
      "\n",
      "CONVERGENCE: NORM_OF_PROJECTED_GRADIENT_<=_PGTOL            \n",
      "RMSE for Amazon: 1.8630762168907813\n"
     ]
    }
   ],
   "source": [
    "# Additional imports for modeling and forecasting\n",
    "from pmdarima import auto_arima\n",
    "from statsmodels.tsa.statespace.sarimax import SARIMAX\n",
    "from sklearn.metrics import mean_squared_error\n",
    "from math import sqrt\n",
    "\n",
    "# combined_df.index = pd.DatetimeIndex(combined_df.index).to_period('D')\n",
    "\n",
    "# Decomposition (optional)\n",
    "# from statsmodels.tsa.seasonal import seasonal_decompose\n",
    "# decompose_result_amazon = seasonal_decompose(amazon_df['Close'], model='additive')\n",
    "# decompose_result_amazon.plot()\n",
    "\n",
    "# Modeling with auto_arima (example for Amazon)\n",
    "model_amazon = auto_arima(combined_df['Amazon'], seasonal=True, m=7, trace=True, error_action='ignore', suppress_warnings=True)\n",
    "print(model_amazon.summary())\n",
    "\n",
    "# Split data into train and test sets\n",
    "train_amazon, test_amazon = combined_df['Amazon'][:-30], combined_df['Amazon'][-30:]\n",
    "\n",
    "# Fit SARIMAX model (example for Amazon)\n",
    "sarimax_model_amazon = SARIMAX(train_amazon, order=model_amazon.order, seasonal_order=model_amazon.seasonal_order)\n",
    "sarimax_result_amazon = sarimax_model_amazon.fit()\n",
    "\n",
    "# Forecasting\n",
    "forecast_amazon = sarimax_result_amazon.get_forecast(steps=30)\n",
    "forecast_amazon_ci = forecast_amazon.conf_int()\n",
    "\n",
    "# Evaluate forecasts\n",
    "predicted_amazon = forecast_amazon.predicted_mean\n",
    "mse_amazon = mean_squared_error(test_amazon, predicted_amazon)\n",
    "rmse_amazon = sqrt(mse_amazon)\n",
    "print(f'RMSE for Amazon: {rmse_amazon}')\n",
    "\n",
    "\n",
    "# Compute cross-correlation (if applicable)\n",
    "# from statsmodels.tsa.stattools import ccf\n",
    "# cross_corr = ccf(combined_df['Amazon'], combined_df['SP500'], unbiased=True)\n",
    "# plt.figure(figsize=(10, 5))\n",
    "# plt.plot(cross_corr)\n",
    "# plt.title('Cross-Correlation Function')\n",
    "# plt.show()\n",
    "\n",
    "# Note: The above cross-correlation section is commented out because it's an optional step. \n",
    "# You would only use it if you're specifically interested in the lead-lag relationship between the two series.\n"
   ]
  },
  {
   "cell_type": "code",
   "execution_count": 112,
   "metadata": {},
   "outputs": [],
   "source": [
    "# # Convert index and values to NumPy arrays\n",
    "# test_amazon_dates = test_amazon.index.to_numpy()\n",
    "# test_amazon_values = test_amazon.values\n",
    "# predicted_amazon_values = predicted_amazon.to_numpy()\n",
    "\n",
    "# # Ensure forecast_amazon_ci is also a NumPy array\n",
    "# forecast_amazon_ci_lower = forecast_amazon_ci.iloc[:, 0].to_numpy()\n",
    "# forecast_amazon_ci_upper = forecast_amazon_ci.iloc[:, 1].to_numpy()\n",
    "\n",
    "# # Visualize forecasts\n",
    "# plt.figure(figsize=(10, 5))\n",
    "# plt.plot(test_amazon_dates, test_amazon_values, label='Actual')\n",
    "# plt.plot(test_amazon_dates, predicted_amazon_values, label='Forecast', color='r')\n",
    "# plt.fill_between(test_amazon_dates, forecast_amazon_ci_lower, forecast_amazon_ci_upper, color='pink', alpha=0.3)\n",
    "# plt.legend()\n",
    "# plt.show()\n"
   ]
  },
  {
   "cell_type": "code",
   "execution_count": 115,
   "metadata": {},
   "outputs": [
    {
     "ename": "TypeError",
     "evalue": "Passing PeriodDtype data is invalid. Use `data.to_timestamp()` instead",
     "output_type": "error",
     "traceback": [
      "\u001b[0;31m---------------------------------------------------------------------------\u001b[0m",
      "\u001b[0;31mTypeError\u001b[0m                                 Traceback (most recent call last)",
      "Cell \u001b[0;32mIn[115], line 15\u001b[0m\n\u001b[1;32m     11\u001b[0m forecast_amazon_ci_upper \u001b[38;5;241m=\u001b[39m forecast_amazon_ci\u001b[38;5;241m.\u001b[39miloc[:, \u001b[38;5;241m1\u001b[39m]\u001b[38;5;241m.\u001b[39mto_numpy()\n\u001b[1;32m     12\u001b[0m \u001b[38;5;66;03m# Assuming 'test_amazon' is your DataFrame\u001b[39;00m\n\u001b[1;32m     13\u001b[0m \n\u001b[1;32m     14\u001b[0m \u001b[38;5;66;03m# First, ensure that the index is a DateTimeIndex\u001b[39;00m\n\u001b[0;32m---> 15\u001b[0m test_amazon\u001b[38;5;241m.\u001b[39mindex \u001b[38;5;241m=\u001b[39m \u001b[43mpd\u001b[49m\u001b[38;5;241;43m.\u001b[39;49m\u001b[43mto_datetime\u001b[49m\u001b[43m(\u001b[49m\u001b[43mtest_amazon\u001b[49m\u001b[38;5;241;43m.\u001b[39;49m\u001b[43mindex\u001b[49m\u001b[43m)\u001b[49m\n\u001b[1;32m     17\u001b[0m \u001b[38;5;66;03m# If your data is supposed to have a regular frequency (e.g., daily data)\u001b[39;00m\n\u001b[1;32m     18\u001b[0m \u001b[38;5;66;03m# Set the frequency, handling missing dates as appropriate for your analysis\u001b[39;00m\n\u001b[1;32m     19\u001b[0m test_amazon \u001b[38;5;241m=\u001b[39m test_amazon\u001b[38;5;241m.\u001b[39masfreq(\u001b[38;5;124m'\u001b[39m\u001b[38;5;124mD\u001b[39m\u001b[38;5;124m'\u001b[39m, method\u001b[38;5;241m=\u001b[39m\u001b[38;5;124m'\u001b[39m\u001b[38;5;124mffill\u001b[39m\u001b[38;5;124m'\u001b[39m)  \u001b[38;5;66;03m# Forward fill as an example\u001b[39;00m\n",
      "File \u001b[0;32m/opt/homebrew/Caskroom/miniforge/base/envs/Test/lib/python3.8/site-packages/pandas/core/tools/datetimes.py:1059\u001b[0m, in \u001b[0;36mto_datetime\u001b[0;34m(arg, errors, dayfirst, yearfirst, utc, format, exact, unit, infer_datetime_format, origin, cache)\u001b[0m\n\u001b[1;32m   1057\u001b[0m         result \u001b[38;5;241m=\u001b[39m _convert_and_box_cache(arg, cache_array, name\u001b[38;5;241m=\u001b[39marg\u001b[38;5;241m.\u001b[39mname)\n\u001b[1;32m   1058\u001b[0m     \u001b[38;5;28;01melse\u001b[39;00m:\n\u001b[0;32m-> 1059\u001b[0m         result \u001b[38;5;241m=\u001b[39m \u001b[43mconvert_listlike\u001b[49m\u001b[43m(\u001b[49m\u001b[43marg\u001b[49m\u001b[43m,\u001b[49m\u001b[43m \u001b[49m\u001b[38;5;28;43mformat\u001b[39;49m\u001b[43m,\u001b[49m\u001b[43m \u001b[49m\u001b[43mname\u001b[49m\u001b[38;5;241;43m=\u001b[39;49m\u001b[43marg\u001b[49m\u001b[38;5;241;43m.\u001b[39;49m\u001b[43mname\u001b[49m\u001b[43m)\u001b[49m\n\u001b[1;32m   1060\u001b[0m \u001b[38;5;28;01melif\u001b[39;00m is_list_like(arg):\n\u001b[1;32m   1061\u001b[0m     \u001b[38;5;28;01mtry\u001b[39;00m:\n\u001b[1;32m   1062\u001b[0m         \u001b[38;5;66;03m# error: Argument 1 to \"_maybe_cache\" has incompatible type\u001b[39;00m\n\u001b[1;32m   1063\u001b[0m         \u001b[38;5;66;03m# \"Union[float, str, datetime, List[Any], Tuple[Any, ...], ExtensionArray,\u001b[39;00m\n\u001b[1;32m   1064\u001b[0m         \u001b[38;5;66;03m# ndarray[Any, Any], Series]\"; expected \"Union[List[Any], Tuple[Any, ...],\u001b[39;00m\n\u001b[1;32m   1065\u001b[0m         \u001b[38;5;66;03m# Union[Union[ExtensionArray, ndarray[Any, Any]], Index, Series], Series]\"\u001b[39;00m\n",
      "File \u001b[0;32m/opt/homebrew/Caskroom/miniforge/base/envs/Test/lib/python3.8/site-packages/pandas/core/tools/datetimes.py:436\u001b[0m, in \u001b[0;36m_convert_listlike_datetimes\u001b[0;34m(arg, format, name, utc, unit, errors, dayfirst, yearfirst, exact)\u001b[0m\n\u001b[1;32m    433\u001b[0m \u001b[38;5;66;03m# warn if passing timedelta64, raise for PeriodDtype\u001b[39;00m\n\u001b[1;32m    434\u001b[0m \u001b[38;5;66;03m# NB: this must come after unit transformation\u001b[39;00m\n\u001b[1;32m    435\u001b[0m \u001b[38;5;28;01mtry\u001b[39;00m:\n\u001b[0;32m--> 436\u001b[0m     arg, _ \u001b[38;5;241m=\u001b[39m \u001b[43mmaybe_convert_dtype\u001b[49m\u001b[43m(\u001b[49m\u001b[43marg\u001b[49m\u001b[43m,\u001b[49m\u001b[43m \u001b[49m\u001b[43mcopy\u001b[49m\u001b[38;5;241;43m=\u001b[39;49m\u001b[38;5;28;43;01mFalse\u001b[39;49;00m\u001b[43m,\u001b[49m\u001b[43m \u001b[49m\u001b[43mtz\u001b[49m\u001b[38;5;241;43m=\u001b[39;49m\u001b[43mlibtimezones\u001b[49m\u001b[38;5;241;43m.\u001b[39;49m\u001b[43mmaybe_get_tz\u001b[49m\u001b[43m(\u001b[49m\u001b[43mtz\u001b[49m\u001b[43m)\u001b[49m\u001b[43m)\u001b[49m\n\u001b[1;32m    437\u001b[0m \u001b[38;5;28;01mexcept\u001b[39;00m \u001b[38;5;167;01mTypeError\u001b[39;00m:\n\u001b[1;32m    438\u001b[0m     \u001b[38;5;28;01mif\u001b[39;00m errors \u001b[38;5;241m==\u001b[39m \u001b[38;5;124m\"\u001b[39m\u001b[38;5;124mcoerce\u001b[39m\u001b[38;5;124m\"\u001b[39m:\n",
      "File \u001b[0;32m/opt/homebrew/Caskroom/miniforge/base/envs/Test/lib/python3.8/site-packages/pandas/core/arrays/datetimes.py:2247\u001b[0m, in \u001b[0;36mmaybe_convert_dtype\u001b[0;34m(data, copy, tz)\u001b[0m\n\u001b[1;32m   2243\u001b[0m     \u001b[38;5;28;01mraise\u001b[39;00m \u001b[38;5;167;01mTypeError\u001b[39;00m(\u001b[38;5;124mf\u001b[39m\u001b[38;5;124m\"\u001b[39m\u001b[38;5;124mdtype \u001b[39m\u001b[38;5;132;01m{\u001b[39;00mdata\u001b[38;5;241m.\u001b[39mdtype\u001b[38;5;132;01m}\u001b[39;00m\u001b[38;5;124m cannot be converted to datetime64[ns]\u001b[39m\u001b[38;5;124m\"\u001b[39m)\n\u001b[1;32m   2244\u001b[0m \u001b[38;5;28;01melif\u001b[39;00m is_period_dtype(data\u001b[38;5;241m.\u001b[39mdtype):\n\u001b[1;32m   2245\u001b[0m     \u001b[38;5;66;03m# Note: without explicitly raising here, PeriodIndex\u001b[39;00m\n\u001b[1;32m   2246\u001b[0m     \u001b[38;5;66;03m#  test_setops.test_join_does_not_recur fails\u001b[39;00m\n\u001b[0;32m-> 2247\u001b[0m     \u001b[38;5;28;01mraise\u001b[39;00m \u001b[38;5;167;01mTypeError\u001b[39;00m(\n\u001b[1;32m   2248\u001b[0m         \u001b[38;5;124m\"\u001b[39m\u001b[38;5;124mPassing PeriodDtype data is invalid. Use `data.to_timestamp()` instead\u001b[39m\u001b[38;5;124m\"\u001b[39m\n\u001b[1;32m   2249\u001b[0m     )\n\u001b[1;32m   2251\u001b[0m \u001b[38;5;28;01melif\u001b[39;00m is_extension_array_dtype(data\u001b[38;5;241m.\u001b[39mdtype) \u001b[38;5;129;01mand\u001b[39;00m \u001b[38;5;129;01mnot\u001b[39;00m is_datetime64tz_dtype(data\u001b[38;5;241m.\u001b[39mdtype):\n\u001b[1;32m   2252\u001b[0m     \u001b[38;5;66;03m# TODO: We have no tests for these\u001b[39;00m\n\u001b[1;32m   2253\u001b[0m     data \u001b[38;5;241m=\u001b[39m np\u001b[38;5;241m.\u001b[39marray(data, dtype\u001b[38;5;241m=\u001b[39mnp\u001b[38;5;241m.\u001b[39mobject_)\n",
      "\u001b[0;31mTypeError\u001b[0m: Passing PeriodDtype data is invalid. Use `data.to_timestamp()` instead"
     ]
    }
   ],
   "source": [
    "# # Ensure the index is a regular sequence of dates\n",
    "# test_amazon = test_amazon.asfreq('D')\n",
    "\n",
    "# # Convert the index and values to NumPy arrays\n",
    "# test_amazon_dates = test_amazon.index.to_numpy()\n",
    "# test_amazon_values = test_amazon.values\n",
    "\n",
    "# Convert predicted values and confidence intervals to NumPy arrays\n",
    "predicted_amazon_values = predicted_amazon.to_numpy()\n",
    "forecast_amazon_ci_lower = forecast_amazon_ci.iloc[:, 0].to_numpy()\n",
    "forecast_amazon_ci_upper = forecast_amazon_ci.iloc[:, 1].to_numpy()\n",
    "# Assuming 'test_amazon' is your DataFrame\n",
    "\n",
    "# First, ensure that the index is a DateTimeIndex\n",
    "test_amazon.index = pd.to_datetime(test_amazon.index)\n",
    "\n",
    "# If your data is supposed to have a regular frequency (e.g., daily data)\n",
    "# Set the frequency, handling missing dates as appropriate for your analysis\n",
    "test_amazon = test_amazon.asfreq('D', method='ffill')  # Forward fill as an example\n",
    "\n",
    "# Now, you can convert the index to a numpy array and proceed with plotting\n",
    "test_amazon_dates = test_amazon.index.to_numpy()\n",
    "test_amazon_values = test_amazon[' Close'].values  # Replace 'Close' with the correct column name\n",
    "\n",
    "# Continue with your plotting code...\n",
    "\n",
    "# Plot your data\n",
    "plt.figure(figsize=(10, 5))\n",
    "plt.plot(test_amazon_dates, test_amazon_values, label='Actual')\n",
    "plt.plot(test_amazon_dates, predicted_amazon_values, label='Forecast', color='r')\n",
    "plt.fill_between(test_amazon_dates, forecast_amazon_ci_lower, forecast_amazon_ci_upper, color='pink', alpha=0.3)\n",
    "plt.legend()\n",
    "plt.show()\n"
   ]
  },
  {
   "cell_type": "code",
   "execution_count": 116,
   "metadata": {},
   "outputs": [
    {
     "data": {
      "image/png": "[encoded data removed]",
      "text/plain": [
       "<Figure size 720x360 with 1 Axes>"
      ]
     },
     "metadata": {
      "needs_background": "light"
     },
     "output_type": "display_data"
    }
   ],
   "source": [
    "# Convert PeriodIndex to DateTimeIndex\n",
    "test_amazon.index = test_amazon.index.to_timestamp()\n",
    "\n",
    "# Now you can proceed with converting the index and values to NumPy arrays\n",
    "test_amazon_dates = test_amazon.index.to_numpy()\n",
    "test_amazon_values = test_amazon.values\n",
    "\n",
    "# Ensure your forecast data is also in the correct format\n",
    "predicted_amazon_values = predicted_amazon.to_numpy()\n",
    "forecast_amazon_ci_lower = forecast_amazon_ci.iloc[:, 0].to_numpy()\n",
    "forecast_amazon_ci_upper = forecast_amazon_ci.iloc[:, 1].to_numpy()\n",
    "\n",
    "# Now you should be able to plot without the TypeError\n",
    "plt.figure(figsize=(10, 5))\n",
    "plt.plot(test_amazon_dates, test_amazon_values, label='Actual')\n",
    "plt.plot(test_amazon_dates, predicted_amazon_values, label='Forecast', color='r')\n",
    "plt.fill_between(test_amazon_dates, forecast_amazon_ci_lower, forecast_amazon_ci_upper, color='pink', alpha=0.3)\n",
    "plt.legend()\n",
    "plt.show()\n"
   ]
  },
  {
   "cell_type": "code",
   "execution_count": 122,
   "metadata": {},
   "outputs": [
    {
     "data": {
      "image/png": "[encoded data removed]",
      "text/plain": [
       "<Figure size 720x360 with 1 Axes>"
      ]
     },
     "metadata": {
      "needs_background": "light"
     },
     "output_type": "display_data"
    }
   ],
   "source": [
    "# Convert PeriodIndex to DateTimeIndex\n",
    "test_amazon.index = test_amazon.index.to_timestamp()\n",
    "\n",
    "# Now you can proceed with converting the index and values to NumPy arrays\n",
    "test_amazon_dates = test_amazon.index.to_numpy()\n",
    "test_amazon_values = test_amazon.values\n",
    "\n",
    "# Ensure your forecast data is also in the correct format\n",
    "predicted_amazon_values = predicted_amazon.to_numpy()\n",
    "residuals = test_amazon - predicted_amazon\n",
    "plt.figure(figsize=(10, 5))\n",
    "plt.plot(residuals, label='Residuals')\n",
    "plt.axhline(y=0, color='r', linestyle='--')\n",
    "plt.title('Residuals of SARIMAX Model')\n",
    "plt.legend()\n",
    "plt.show()\n"
   ]
  },
  {
   "cell_type": "code",
   "execution_count": 117,
   "metadata": {},
   "outputs": [
    {
     "name": "stdout",
     "output_type": "stream",
     "text": [
      "Mean Squared Error: 3.471052989944065\n"
     ]
    }
   ],
   "source": [
    "from sklearn.metrics import mean_squared_error\n",
    "\n",
    "mse = mean_squared_error(test_amazon_values, predicted_amazon_values)\n",
    "print(f'Mean Squared Error: {mse}')\n"
   ]
  },
  {
   "cell_type": "code",
   "execution_count": null,
   "metadata": {},
   "outputs": [],
   "source": []
  },
  {
   "cell_type": "code",
   "execution_count": null,
   "metadata": {},
   "outputs": [],
   "source": []
  }
 ],
 "metadata": {
  "kernelspec": {
   "display_name": "Python 3",
   "language": "python",
   "name": "python3"
  },
  "language_info": {
   "codemirror_mode": {
    "name": "ipython",
    "version": 3
   },
   "file_extension": ".py",
   "mimetype": "text/x-python",
   "name": "python",
   "nbconvert_exporter": "python",
   "pygments_lexer": "ipython3",
   "version": "3.8.8"
  }
 },
 "nbformat": 4,
 "nbformat_minor": 2
}
