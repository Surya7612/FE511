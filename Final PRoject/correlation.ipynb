{
 "cells": [
  {
   "cell_type": "code",
   "execution_count": 53,
   "metadata": {},
   "outputs": [],
   "source": [
    "import pandas as pd\n",
    "import numpy as np\n",
    "from scipy.stats import pearsonr\n",
    "import matplotlib.pyplot as plt"
   ]
  },
  {
   "cell_type": "code",
   "execution_count": 54,
   "metadata": {},
   "outputs": [],
   "source": [
    "amazon_monthly_csv_path = '/Users/surya/Desktop/FE-511/FE511/Final PRoject/amazon_monthly.csv'\n",
    "sp500_monthly_csv_path = '/Users/surya/Desktop/FE-511/FE511/Final PRoject/S&P500_monthly.csv'\n",
    "amazon_daily_csv_path = '/Users/surya/Desktop/FE-511/FE511/Final PRoject/amzn_daily_wallstreet_HistoricalPrices.csv'\n",
    "sp500_daily_csv_path = '/Users/surya/Desktop/FE-511/FE511/Final PRoject/S&P_daily_wallstreet_HistoricalPrices.csv'"
   ]
  },
  {
   "cell_type": "markdown",
   "metadata": {},
   "source": [
    "## Finding correlation using monthly data"
   ]
  },
  {
   "cell_type": "code",
   "execution_count": 55,
   "metadata": {},
   "outputs": [],
   "source": [
    "# Reading monthly data from CSV files\n",
    "amazon_monthly = pd.read_csv(amazon_monthly_csv_path, parse_dates=['date'])\n",
    "sp500_monthly = pd.read_csv(sp500_monthly_csv_path, parse_dates=['datadate'])"
   ]
  },
  {
   "cell_type": "code",
   "execution_count": 56,
   "metadata": {},
   "outputs": [],
   "source": [
    "amazon_monthly = amazon_monthly.dropna()\n",
    "sp500_monthly = sp500_monthly.dropna()"
   ]
  },
  {
   "cell_type": "code",
   "execution_count": 57,
   "metadata": {},
   "outputs": [
    {
     "data": {
      "text/html": [
       "<div>\n",
       "<style scoped>\n",
       "    .dataframe tbody tr th:only-of-type {\n",
       "        vertical-align: middle;\n",
       "    }\n",
       "\n",
       "    .dataframe tbody tr th {\n",
       "        vertical-align: top;\n",
       "    }\n",
       "\n",
       "    .dataframe thead th {\n",
       "        text-align: right;\n",
       "    }\n",
       "</style>\n",
       "<table border=\"1\" class=\"dataframe\">\n",
       "  <thead>\n",
       "    <tr style=\"text-align: right;\">\n",
       "      <th></th>\n",
       "      <th>PERMNO</th>\n",
       "      <th>date</th>\n",
       "      <th>COMNAM</th>\n",
       "      <th>PRC</th>\n",
       "    </tr>\n",
       "  </thead>\n",
       "  <tbody>\n",
       "    <tr>\n",
       "      <th>0</th>\n",
       "      <td>84788</td>\n",
       "      <td>2018-01-31</td>\n",
       "      <td>AMAZON COM INC</td>\n",
       "      <td>1450.89001</td>\n",
       "    </tr>\n",
       "    <tr>\n",
       "      <th>1</th>\n",
       "      <td>84788</td>\n",
       "      <td>2018-02-28</td>\n",
       "      <td>AMAZON COM INC</td>\n",
       "      <td>1512.44995</td>\n",
       "    </tr>\n",
       "    <tr>\n",
       "      <th>2</th>\n",
       "      <td>84788</td>\n",
       "      <td>2018-03-29</td>\n",
       "      <td>AMAZON COM INC</td>\n",
       "      <td>1447.33997</td>\n",
       "    </tr>\n",
       "    <tr>\n",
       "      <th>3</th>\n",
       "      <td>84788</td>\n",
       "      <td>2018-04-30</td>\n",
       "      <td>AMAZON COM INC</td>\n",
       "      <td>1566.13000</td>\n",
       "    </tr>\n",
       "    <tr>\n",
       "      <th>4</th>\n",
       "      <td>84788</td>\n",
       "      <td>2018-05-31</td>\n",
       "      <td>AMAZON COM INC</td>\n",
       "      <td>1629.62000</td>\n",
       "    </tr>\n",
       "    <tr>\n",
       "      <th>5</th>\n",
       "      <td>84788</td>\n",
       "      <td>2018-06-29</td>\n",
       "      <td>AMAZON COM INC</td>\n",
       "      <td>1699.80005</td>\n",
       "    </tr>\n",
       "    <tr>\n",
       "      <th>6</th>\n",
       "      <td>84788</td>\n",
       "      <td>2018-07-31</td>\n",
       "      <td>AMAZON COM INC</td>\n",
       "      <td>1777.43994</td>\n",
       "    </tr>\n",
       "    <tr>\n",
       "      <th>7</th>\n",
       "      <td>84788</td>\n",
       "      <td>2018-08-31</td>\n",
       "      <td>AMAZON COM INC</td>\n",
       "      <td>2012.70996</td>\n",
       "    </tr>\n",
       "    <tr>\n",
       "      <th>8</th>\n",
       "      <td>84788</td>\n",
       "      <td>2018-09-28</td>\n",
       "      <td>AMAZON COM INC</td>\n",
       "      <td>2003.00000</td>\n",
       "    </tr>\n",
       "    <tr>\n",
       "      <th>9</th>\n",
       "      <td>84788</td>\n",
       "      <td>2018-10-31</td>\n",
       "      <td>AMAZON COM INC</td>\n",
       "      <td>1598.01001</td>\n",
       "    </tr>\n",
       "  </tbody>\n",
       "</table>\n",
       "</div>"
      ],
      "text/plain": [
       "   PERMNO       date          COMNAM         PRC\n",
       "0   84788 2018-01-31  AMAZON COM INC  1450.89001\n",
       "1   84788 2018-02-28  AMAZON COM INC  1512.44995\n",
       "2   84788 2018-03-29  AMAZON COM INC  1447.33997\n",
       "3   84788 2018-04-30  AMAZON COM INC  1566.13000\n",
       "4   84788 2018-05-31  AMAZON COM INC  1629.62000\n",
       "5   84788 2018-06-29  AMAZON COM INC  1699.80005\n",
       "6   84788 2018-07-31  AMAZON COM INC  1777.43994\n",
       "7   84788 2018-08-31  AMAZON COM INC  2012.70996\n",
       "8   84788 2018-09-28  AMAZON COM INC  2003.00000\n",
       "9   84788 2018-10-31  AMAZON COM INC  1598.01001"
      ]
     },
     "execution_count": 57,
     "metadata": {},
     "output_type": "execute_result"
    }
   ],
   "source": [
    "# amazon_monthly = pd.DataFrame(amazon_monthly)\n",
    "# print(amazon_monthly)\n",
    "amazon_monthly.head(10)"
   ]
  },
  {
   "cell_type": "code",
   "execution_count": 58,
   "metadata": {},
   "outputs": [
    {
     "data": {
      "text/plain": [
       "gvkeyx      False\n",
       "prccm       False\n",
       "datadate    False\n",
       "conm        False\n",
       "tic         False\n",
       "dtype: bool"
      ]
     },
     "execution_count": 58,
     "metadata": {},
     "output_type": "execute_result"
    }
   ],
   "source": [
    "amazon_monthly.isnull().any()\n",
    "sp500_monthly.isnull().any()"
   ]
  },
  {
   "cell_type": "markdown",
   "metadata": {},
   "source": [
    "## Pearson Correlation"
   ]
  },
  {
   "cell_type": "code",
   "execution_count": 59,
   "metadata": {},
   "outputs": [
    {
     "name": "stdout",
     "output_type": "stream",
     "text": [
      "Monthly Correlation: 0.3881\n"
     ]
    }
   ],
   "source": [
    "# Correlation for monthly data\n",
    "monthly_correlation = pearsonr(amazon_monthly['PRC'], sp500_monthly['prccm'])[0]\n",
    "print(f\"Monthly Correlation: {monthly_correlation:.4f}\")"
   ]
  },
  {
   "cell_type": "code",
   "execution_count": 60,
   "metadata": {},
   "outputs": [
    {
     "data": {
      "image/png": "[encoded data removed]",
      "text/plain": [
       "<Figure size 432x288 with 1 Axes>"
      ]
     },
     "metadata": {
      "needs_background": "light"
     },
     "output_type": "display_data"
    }
   ],
   "source": [
    "# Plot monthly returns\n",
    "plt.scatter(amazon_monthly['PRC'], sp500_monthly['prccm'])\n",
    "plt.title('Monthly Returns Correlation')\n",
    "plt.xlabel('Amazon Monthly Returns')\n",
    "plt.ylabel('S&P 500 Monthly Returns')\n",
    "plt.show()"
   ]
  },
  {
   "cell_type": "code",
   "execution_count": 61,
   "metadata": {},
   "outputs": [
    {
     "name": "stderr",
     "output_type": "stream",
     "text": [
      "/var/folders/13/vzz1wpdx7v71md6284hwnky40000gn/T/ipykernel_24461/1139253460.py:2: UserWarning: Could not infer format, so each element will be parsed individually, falling back to `dateutil`. To ensure parsing is consistent and as-expected, please specify a format.\n",
      "  amazon_daily = pd.read_csv(amazon_daily_csv_path, parse_dates=['Date'])\n",
      "/var/folders/13/vzz1wpdx7v71md6284hwnky40000gn/T/ipykernel_24461/1139253460.py:3: UserWarning: Could not infer format, so each element will be parsed individually, falling back to `dateutil`. To ensure parsing is consistent and as-expected, please specify a format.\n",
      "  sp500_daily = pd.read_csv(sp500_daily_csv_path, parse_dates=['Date'])\n"
     ]
    }
   ],
   "source": [
    "# Reading daily data from CSV files\n",
    "amazon_daily = pd.read_csv(amazon_daily_csv_path, parse_dates=['Date'])\n",
    "sp500_daily = pd.read_csv(sp500_daily_csv_path, parse_dates=['Date'])"
   ]
  },
  {
   "cell_type": "code",
   "execution_count": 62,
   "metadata": {},
   "outputs": [],
   "source": [
    "# Drop NaN values\n",
    "amazon_daily = amazon_daily.dropna()\n",
    "sp500_daily = sp500_daily.dropna()"
   ]
  },
  {
   "cell_type": "code",
   "execution_count": 63,
   "metadata": {},
   "outputs": [
    {
     "data": {
      "text/plain": [
       "Date       False\n",
       " Open      False\n",
       " High      False\n",
       " Low       False\n",
       " Close     False\n",
       " Volume    False\n",
       "dtype: bool"
      ]
     },
     "execution_count": 63,
     "metadata": {},
     "output_type": "execute_result"
    }
   ],
   "source": [
    "amazon_daily.isnull().any()"
   ]
  },
  {
   "cell_type": "code",
   "execution_count": 64,
   "metadata": {},
   "outputs": [
    {
     "data": {
      "text/plain": [
       "Date      False\n",
       " Open     False\n",
       " High     False\n",
       " Low      False\n",
       " Close    False\n",
       "dtype: bool"
      ]
     },
     "execution_count": 64,
     "metadata": {},
     "output_type": "execute_result"
    }
   ],
   "source": [
    "sp500_daily.isnull().any()"
   ]
  },
  {
   "cell_type": "markdown",
   "metadata": {},
   "source": [
    "## Linear Regression"
   ]
  },
  {
   "cell_type": "code",
   "execution_count": 65,
   "metadata": {},
   "outputs": [
    {
     "name": "stdout",
     "output_type": "stream",
     "text": [
      "Mean Squared Error for Linear Regression: 1180814.5954063812\n"
     ]
    },
    {
     "data": {
      "image/png": "[encoded data removed]",
      "text/plain": [
       "<Figure size 432x288 with 1 Axes>"
      ]
     },
     "metadata": {
      "needs_background": "light"
     },
     "output_type": "display_data"
    }
   ],
   "source": [
    "from sklearn.linear_model import LinearRegression\n",
    "from sklearn.model_selection import train_test_split\n",
    "from sklearn.metrics import mean_squared_error\n",
    "import matplotlib.pyplot as plt\n",
    "\n",
    "# Assuming amazon_monthly and sp500_monthly have 'returns' columns for monthly returns\n",
    "X = sp500_monthly[['prccm']].values  # S&P 500 prices as independent variable\n",
    "y = amazon_monthly['PRC'].values    # Amazon prices as dependent variable\n",
    "\n",
    "# Split the data into training and testing sets\n",
    "X_train, X_test, y_train, y_test = train_test_split(X, y, test_size=0.2, random_state=42)\n",
    "\n",
    "# Create and fit the linear regression model on the training set\n",
    "model = LinearRegression()\n",
    "model.fit(X_train, y_train)\n",
    "\n",
    "# Predict Amazon prices on the test set\n",
    "y_pred_lr = model.predict(X_test)\n",
    "\n",
    "# Calculate the mean squared error on the test set\n",
    "mse_lr = mean_squared_error(y_test, y_pred_lr)\n",
    "print(\"Mean Squared Error for Linear Regression:\", mse_lr)\n",
    "\n",
    "# Optional: Plot actual vs. predicted prices for visual inspection\n",
    "plt.scatter(X_test, y_test, color='blue', label='Actual Prices')\n",
    "plt.scatter(X_test, y_pred_lr, color='red', label='Predicted Prices')\n",
    "plt.title('Linear Regression: Actual vs Predicted Amazon Prices')\n",
    "plt.xlabel('S&P 500 Prices')\n",
    "plt.ylabel('Amazon Prices')\n",
    "plt.legend()\n",
    "plt.show()"
   ]
  },
  {
   "cell_type": "code",
   "execution_count": 66,
   "metadata": {},
   "outputs": [
    {
     "data": {
      "image/png": "[encoded data removed]",
      "text/plain": [
       "<Figure size 432x288 with 1 Axes>"
      ]
     },
     "metadata": {
      "needs_background": "light"
     },
     "output_type": "display_data"
    }
   ],
   "source": [
    "plt.scatter(X_test, y_test, color='blue', label='Actual Returns')  # Actual data points\n",
    "plt.plot(X_test, y_pred_lr, color='red', label='Predicted Returns')  # Regression line\n",
    "\n",
    "# Additionally, plot a line of perfect predictions for reference\n",
    "# It will help to visually assess the accuracy of the model\n",
    "plt.plot([min(X_test), max(X_test)], [min(y_test), max(y_test)], color='green', linestyle='--', label='Perfect Fit')\n",
    "\n",
    "plt.xlabel('S&P 500 Returns')\n",
    "plt.ylabel('Amazon Returns')\n",
    "plt.title('Linear Regression: Actual vs Predicted Amazon Returns')\n",
    "plt.legend()\n",
    "plt.show()"
   ]
  },
  {
   "cell_type": "markdown",
   "metadata": {},
   "source": [
    "## Random Forest"
   ]
  },
  {
   "cell_type": "code",
   "execution_count": 67,
   "metadata": {},
   "outputs": [],
   "source": [
    "from sklearn.ensemble import RandomForestRegressor\n",
    "from sklearn.model_selection import train_test_split\n",
    "from sklearn.metrics import mean_squared_error\n",
    "import matplotlib.pyplot as plt\n",
    "import numpy as np"
   ]
  },
  {
   "cell_type": "code",
   "execution_count": 68,
   "metadata": {},
   "outputs": [],
   "source": [
    "# Split the data into training and testing sets\n",
    "X_train, X_test, y_train, y_test = train_test_split(X, y, test_size=0.2, random_state=42)"
   ]
  },
  {
   "cell_type": "code",
   "execution_count": 69,
   "metadata": {},
   "outputs": [],
   "source": [
    "# Initialize the Random Forest model\n",
    "rf_model = RandomForestRegressor(n_estimators=100, random_state=0)\n",
    "\n",
    "# Fit the model\n",
    "rf_model.fit(X_train, y_train)\n",
    "\n",
    "# Predicting on the test set\n",
    "y_pred = rf_model.predict(X_test)"
   ]
  },
  {
   "cell_type": "code",
   "execution_count": 70,
   "metadata": {},
   "outputs": [
    {
     "name": "stdout",
     "output_type": "stream",
     "text": [
      "Mean Squared Error: 471566.74278984143\n"
     ]
    }
   ],
   "source": [
    "# Calculate and print the mean squared error\n",
    "mse = mean_squared_error(y_test, y_pred)\n",
    "print(\"Mean Squared Error:\", mse)"
   ]
  },
  {
   "cell_type": "code",
   "execution_count": 71,
   "metadata": {},
   "outputs": [
    {
     "data": {
      "image/png": "[encoded data removed]",
      "text/plain": [
       "<Figure size 432x288 with 1 Axes>"
      ]
     },
     "metadata": {
      "needs_background": "light"
     },
     "output_type": "display_data"
    }
   ],
   "source": [
    "plt.scatter(y_test, y_pred, color='blue', label='Predictions')\n",
    "plt.plot([min(y_test), max(y_test)], [min(y_test), max(y_test)], color='red', label='Perfect Fit')\n",
    "plt.xlabel('Actual Returns')\n",
    "plt.ylabel('Predicted Returns')\n",
    "plt.title('Random Forest Model Predictions vs Actual')\n",
    "plt.legend()\n",
    "plt.show()"
   ]
  },
  {
   "cell_type": "markdown",
   "metadata": {},
   "source": [
    "## Time Series Analysis on Daily Closing Data"
   ]
  },
  {
   "cell_type": "code",
   "execution_count": 72,
   "metadata": {},
   "outputs": [],
   "source": [
    "# import pandas as pd\n",
    "# import numpy as np\n",
    "# import matplotlib.pyplot as plt\n",
    "# from statsmodels.tsa.stattools import adfuller\n",
    "# from statsmodels.tsa.seasonal import seasonal_decompose\n",
    "# from statsmodels.tsa.statespace.sarimax import SARIMAX\n",
    "# from sklearn.metrics import mean_squared_error\n",
    "\n",
    "# # Read the CSV files\n",
    "# amazon_daily = pd.read_csv('/Users/surya/Desktop/FE-511/FE511/Final PRoject/amzn_daily_wallstreet_HistoricalPrices.csv', parse_dates=['Date'], index_col='Date')\n",
    "# sp500_daily = pd.read_csv('/Users/surya/Desktop/FE-511/FE511/Final PRoject/S&P_daily_wallstreet_HistoricalPrices.csv', parse_dates=['Date'], index_col='Date')\n",
    "\n",
    "# # Quick visualization of the closing prices\n",
    "# amazon_daily[' Close'].plot(title='Amazon Daily Closing Prices', figsize=(10, 5))\n",
    "# plt.show()\n",
    "# sp500_daily[' Close'].plot(title='S&P 500 Daily Closing Prices', figsize=(10, 5))\n",
    "# plt.show()"
   ]
  },
  {
   "cell_type": "code",
   "execution_count": 73,
   "metadata": {},
   "outputs": [],
   "source": [
    "# # Testing for stationarity with the Augmented Dickey-Fuller test\n",
    "# adf_result_amazon = adfuller(amazon_daily[' Close'])\n",
    "# print('ADF Statistic for Amazon: %f' % adf_result_amazon[0])\n",
    "# print('p-value for Amazon: %f' % adf_result_amazon[1])\n",
    "\n",
    "# adf_result_sp500 = adfuller(sp500_daily[' Close'])\n",
    "# print('ADF Statistic for S&P 500: %f' % adf_result_sp500[0])\n",
    "# print('p-value for S&P 500: %f' % adf_result_sp500[1])"
   ]
  },
  {
   "cell_type": "code",
   "execution_count": 74,
   "metadata": {},
   "outputs": [],
   "source": [
    "# # Decomposing the time series (if needed)\n",
    "# decomposition = seasonal_decompose(amazon_daily[' Close'], model='multiplicative', period=30)\n",
    "# decomposition.plot()\n",
    "# plt.show()"
   ]
  },
  {
   "cell_type": "code",
   "execution_count": 75,
   "metadata": {},
   "outputs": [],
   "source": [
    "# # Differencing the series once\n",
    "# amazon_daily_diff = amazon_daily[' Close'].diff().dropna()\n",
    "\n",
    "# # Perform ADF test again on differenced series\n",
    "# adf_result_amazon_diff = adfuller(amazon_daily_diff)\n",
    "# print('ADF Statistic for differenced Amazon: %f' % adf_result_amazon_diff[0])\n",
    "# print('p-value for differenced Amazon: %f' % adf_result_amazon_diff[1])\n"
   ]
  },
  {
   "cell_type": "code",
   "execution_count": 76,
   "metadata": {},
   "outputs": [],
   "source": [
    "# # Applying a log transformation\n",
    "# amazon_daily_log = np.log(amazon_daily[' Close'])\n",
    "\n",
    "# # Perform ADF test again on logged series\n",
    "# adf_result_amazon_log = adfuller(amazon_daily_log.dropna())\n",
    "# print('ADF Statistic for logged Amazon: %f' % adf_result_amazon_log[0])\n",
    "# print('p-value for logged Amazon: %f' % adf_result_amazon_log[1])\n"
   ]
  },
  {
   "cell_type": "code",
   "execution_count": 77,
   "metadata": {},
   "outputs": [],
   "source": [
    "# # Decomposing the series\n",
    "# decomposition = seasonal_decompose(amazon_daily[' Close'], model='multiplicative', period=30)\n",
    "# residual = decomposition.resid.dropna()\n",
    "\n",
    "# # Perform ADF test again on residuals\n",
    "# adf_result_residual = adfuller(residual)\n",
    "# print('ADF Statistic for residuals: %f' % adf_result_residual[0])\n",
    "# print('p-value for residuals: %f' % adf_result_residual[1])\n"
   ]
  },
  {
   "cell_type": "code",
   "execution_count": 78,
   "metadata": {},
   "outputs": [],
   "source": [
    "# from statsmodels.tsa.stattools import adfuller\n",
    "\n",
    "# # Let's say you've already differenced the data once and stored it in amazon_daily_diff\n",
    "# # Now you run the ADF test again on this differenced data\n",
    "\n",
    "# adf_test_diff = adfuller(amazon_daily_diff)\n",
    "\n",
    "# print('ADF Statistic for differenced data: %f' % adf_test_diff[0])\n",
    "# print('p-value for differenced data: %f' % adf_test_diff[1])\n",
    "# print('Critical Values:')\n",
    "# for key, value in adf_test_diff[4].items():\n",
    "#     print('\\t%s: %.3f' % (key, value))\n"
   ]
  },
  {
   "cell_type": "code",
   "execution_count": 79,
   "metadata": {},
   "outputs": [],
   "source": [
    "#!pip install pmdarima"
   ]
  },
  {
   "cell_type": "code",
   "execution_count": 80,
   "metadata": {},
   "outputs": [],
   "source": [
    "# from pmdarima import auto_arima\n",
    "# from statsmodels.tsa.statespace.sarimax import SARIMAX"
   ]
  },
  {
   "cell_type": "code",
   "execution_count": 81,
   "metadata": {},
   "outputs": [],
   "source": [
    "# Read the CSV file\n",
    "# amazon_daily = pd.read_csv('/Users/surya/Desktop/FE-511/FE511/Final PRoject/amzn_daily_wallstreet_HistoricalPrices.csv')"
   ]
  },
  {
   "cell_type": "code",
   "execution_count": 82,
   "metadata": {},
   "outputs": [],
   "source": [
    "# Strip whitespace from column names\n",
    "# amazon_daily.columns = amazon_daily.columns.str.strip()"
   ]
  },
  {
   "cell_type": "code",
   "execution_count": 83,
   "metadata": {},
   "outputs": [],
   "source": [
    "# amazon_daily.head(5)"
   ]
  },
  {
   "cell_type": "code",
   "execution_count": 84,
   "metadata": {},
   "outputs": [],
   "source": [
    "# amazon_daily_diff.head(5)"
   ]
  },
  {
   "cell_type": "code",
   "execution_count": 85,
   "metadata": {},
   "outputs": [],
   "source": [
    "# # Convert the index to a datetime object and sort it\n",
    "# amazon_daily_diff.index = pd.to_datetime(amazon_daily_diff.index)\n",
    "# amazon_daily_diff = amazon_daily_diff.sort_index()\n",
    "\n",
    "# # Assuming amazon_daily_diff is already loaded as shown in the screenshot\n",
    "# amazon_daily_diff.index = pd.DatetimeIndex(amazon_daily_diff.index).to_period('D')\n",
    "# amazon_daily_diff = amazon_daily_diff.sort_index()\n",
    "\n",
    "# # Handle NaN values appropriately\n",
    "# amazon_daily_diff = amazon_daily_diff.fillna(method='ffill')  # or interpolate or dropna\n",
    "\n",
    "# # Convert the 'Date' column to datetime\n",
    "# amazon_daily['Date'] = pd.to_datetime(amazon_daily['Date'])\n",
    "\n",
    "# # Set the 'Date' column as the index\n",
    "# amazon_daily.set_index('Date', inplace=True)\n",
    "\n",
    "# # Auto ARIMA to find optimal parameters\n",
    "# stepwise_model = auto_arima(amazon_daily_diff['Close'], start_p=1, start_q=1,\n",
    "#                             max_p=3, max_q=3, m=12,\n",
    "#                             start_P=0, seasonal=True,\n",
    "#                             d=1, D=1, trace=True,\n",
    "#                             error_action='ignore',  \n",
    "#                             suppress_warnings=True, \n",
    "#                             stepwise=True)\n",
    "\n",
    "# # Split data into train and test sets\n",
    "# train = amazon_daily_diff['Close'].iloc[:-30]\n",
    "# test = amazon_daily_diff['Close'].iloc[-30:]\n",
    "\n",
    "# # Fit SARIMAX model\n",
    "# model = SARIMAX(train, order=stepwise_model.order, seasonal_order=stepwise_model.seasonal_order,\n",
    "#                 enforce_stationarity=False, enforce_invertibility=False)\n",
    "# model_fit = model.fit()\n",
    "\n",
    "# # Forecast\n",
    "# forecast = model_fit.get_forecast(steps=30)\n",
    "# predicted_mean = forecast.predicted_mean\n",
    "# conf_int = forecast.conf_int()\n",
    "\n",
    "# # Plot the results\n",
    "# plt.figure(figsize=(10, 5))\n",
    "# plt.plot(amazon_daily_diff['Close'], label='Observed')\n",
    "# plt.plot(predicted_mean.index, predicted_mean, color='r', label='Forecast')\n",
    "# plt.fill_between(conf_int.index, conf_int.iloc[:, 0], conf_int.iloc[:, 1], color='pink', alpha=0.3)\n",
    "# plt.legend()\n",
    "# plt.show()\n"
   ]
  },
  {
   "cell_type": "code",
   "execution_count": 86,
   "metadata": {},
   "outputs": [],
   "source": [
    "# # Convert the index to a datetime object and sort it\n",
    "# amazon_daily_diff.index = pd.to_datetime(amazon_daily_diff.index)\n",
    "# amazon_daily_diff = amazon_daily_diff.sort_index()\n",
    "\n",
    "# # Handle NaN values\n",
    "# amazon_daily_diff = amazon_daily_diff.fillna(method='ffill')  # or use .dropna()\n",
    "\n",
    "\n",
    "# # Check if the index is unique and monotonically increasing\n",
    "# if not amazon_daily_diff.index.is_unique:\n",
    "#     raise ValueError(\"Index has duplicates.\")\n",
    "# if not amazon_daily_diff.index.is_monotonic_increasing:\n",
    "#     raise ValueError(\"Index should be monotonically increasing.\")\n",
    "\n",
    "# # Assuming the data is daily, you can set the frequency to 'D'\n",
    "# amazon_daily_diff = amazon_daily_diff.asfreq('D')\n",
    "\n",
    "# # Auto ARIMA: automatically discover the optimal order for an ARIMA model\n",
    "# stepwise_model = auto_arima(amazon_daily_diff, start_p=1, start_q=1,\n",
    "#                             max_p=3, max_q=3, m=12,\n",
    "#                             start_P=0, seasonal=True,\n",
    "#                             d=1, D=1, trace=True,\n",
    "#                             error_action='ignore',  \n",
    "#                             suppress_warnings=True, \n",
    "#                             stepwise=True)\n",
    "\n",
    "# print(f\"AIC: {stepwise_model.aic()}\")\n",
    "# print(f\"Optimal parameters: {stepwise_model.order}, seasonal order: {stepwise_model.seasonal_order}\")\n",
    "\n",
    "# # Split data into train and test sets\n",
    "# train = amazon_daily_diff.iloc[:-30]\n",
    "# test = amazon_daily_diff.iloc[-30:]\n",
    "\n",
    "# # Fit the SARIMAX model with the orders found by auto_arima\n",
    "# model = SARIMAX(train, order=stepwise_model.order, seasonal_order=stepwise_model.seasonal_order)\n",
    "# model_fit = model.fit(disp=False)\n",
    "\n",
    "# # Make prediction for the differenced series\n",
    "# prediction = model_fit.get_forecast(steps=30)\n",
    "# predicted_mean_diff = prediction.predicted_mean\n",
    "# confidence_intervals_diff = prediction.conf_int()\n",
    "\n",
    "# # Invert the differencing to get the forecast in original scale\n",
    "# last_obs_value = amazon_daily[' Close'].iloc[-30-1]  # The last observation before the test set\n",
    "# predicted_mean = predicted_mean_diff.cumsum() + last_obs_value\n",
    "\n",
    "# # # Strip whitespace from column names\n",
    "# # amazon_daily.columns = amazon_daily.columns.str.strip()"
   ]
  },
  {
   "cell_type": "code",
   "execution_count": 87,
   "metadata": {},
   "outputs": [],
   "source": [
    "# # Assuming 'amazon_daily' is a pandas DataFrame with 'Close' as one of its columns\n",
    "# # Convert index and 'Close' column to numpy arrays\n",
    "# dates = amazon_daily.index.to_numpy()\n",
    "# close_prices = amazon_daily[' Close'].to_numpy()\n",
    "\n",
    "# # Slice the last 60 data points for plotting\n",
    "# dates_slice = dates[-60:]\n",
    "# close_prices_slice = close_prices[-60:]\n",
    "\n",
    "# # Plot the data\n",
    "# plt.figure(figsize=(10, 5))\n",
    "# plt.plot(dates_slice, close_prices_slice, label='Observed')\n",
    "# plt.legend()\n",
    "# plt.show()\n"
   ]
  },
  {
   "cell_type": "code",
   "execution_count": 88,
   "metadata": {},
   "outputs": [],
   "source": [
    "# # Plot the results\n",
    "# # Convert to NumPy array\n",
    "# close_prices = amazon_daily[' Close'].to_numpy()\n",
    "\n",
    "# # plt.figure(figsize=(10, 5))\n",
    "# # plt.plot(amazon_daily[' Close'].index[-60:], amazon_daily[' Close'].iloc[-60:], label='Observed')\n",
    "# plt.figure(figsize=(10, 5))\n",
    "# plt.plot(amazon_daily.index[-60:], close_prices[-60:], label='Observed')\n",
    "# plt.plot(test.index, predicted_mean, color='r', label='Forecast')\n",
    "# plt.fill_between(confidence_intervals_diff.index,\n",
    "#                  confidence_intervals_diff.iloc[:, 0].cumsum() + last_obs_value,\n",
    "#                  confidence_intervals_diff.iloc[:, 1].cumsum() + last_obs_value, color='pink', alpha=0.3)\n",
    "# plt.legend()\n",
    "# plt.show()"
   ]
  },
  {
   "cell_type": "code",
   "execution_count": 93,
   "metadata": {},
   "outputs": [],
   "source": [
    "# import matplotlib.pyplot as plt\n",
    "\n",
    "# # Assuming 'amazon_daily' is your DataFrame with 'Date' as the index\n",
    "# # Ensure 'Close' is the column you want to plot\n",
    "\n",
    "# plt.figure(figsize=(15, 7))\n",
    "# plt.plot(amazon_daily[' Close'], label='Close Price')  # Plot the closing prices\n",
    "# plt.title('Amazon Daily Closing Prices')\n",
    "# plt.xlabel('Date')\n",
    "# plt.ylabel('Price')\n",
    "# plt.legend()\n",
    "# plt.show()\n"
   ]
  },
  {
   "cell_type": "code",
   "execution_count": 90,
   "metadata": {},
   "outputs": [],
   "source": [
    "# Print column names to check for extra whitespace\n",
    "# print(amazon_daily.columns)"
   ]
  },
  {
   "cell_type": "code",
   "execution_count": 91,
   "metadata": {},
   "outputs": [],
   "source": [
    "# amazon_daily.head(10)"
   ]
  },
  {
   "cell_type": "code",
   "execution_count": 92,
   "metadata": {},
   "outputs": [],
   "source": [
    "# # Convert the 'Date' column to datetime if it's not already\n",
    "# amazon_daily['Date'] = pd.to_datetime(amazon_daily['Date'])\n",
    "\n",
    "# # Set the 'Date' column as the index of the DataFrame\n",
    "# amazon_daily.set_index('Date', inplace=True)\n"
   ]
  },
  {
   "cell_type": "markdown",
   "metadata": {},
   "source": [
    "# Trial 2"
   ]
  },
  {
   "cell_type": "code",
   "execution_count": 94,
   "metadata": {},
   "outputs": [],
   "source": [
    "import pandas as pd\n",
    "import numpy as np\n",
    "from statsmodels.tsa.stattools import adfuller\n",
    "from scipy.stats import pearsonr\n",
    "import matplotlib.pyplot as plt"
   ]
  },
  {
   "cell_type": "code",
   "execution_count": 96,
   "metadata": {},
   "outputs": [],
   "source": [
    "# # Load your datasets\n",
    "# amazon_df = pd.read_csv('/Users/surya/Desktop/FE-511/FE511/Final PRoject/amzn_daily_wallstreet_HistoricalPrices.csv', parse_dates=['Date'], index_col='Date')\n",
    "# sp500_df = pd.read_csv('/Users/surya/Desktop/FE-511/FE511/Final PRoject/S&P_daily_wallstreet_HistoricalPrices.csv', parse_dates=['Date'], index_col='Date')"
   ]
  },
  {
   "cell_type": "code",
   "execution_count": 99,
   "metadata": {},
   "outputs": [],
   "source": [
    "# Define the CSV file path\n",
    "csv_file_path_amzn = '/Users/surya/Desktop/FE-511/FE511/Final PRoject/amzn_daily_wallstreet_HistoricalPrices.csv'\n",
    "csv_file_path_sp500 = '/Users/surya/Desktop/FE-511/FE511/Final PRoject/S&P_daily_wallstreet_HistoricalPrices.csv'\n",
    "\n",
    "# Read the CSV file using pandas with the date_format parameter\n",
    "amazon_df = pd.read_csv(\n",
    "    csv_file_path_amzn,\n",
    "    parse_dates=['Date'],\n",
    "    date_format='%m/%d/%y',\n",
    "    index_col='Date'\n",
    ")\n",
    "\n",
    "sp500_df = pd.read_csv(\n",
    "    csv_file_path_sp500,\n",
    "    parse_dates=['Date'],\n",
    "    date_format='%m/%d/%y',\n",
    "    index_col='Date'\n",
    ")\n",
    "\n"
   ]
  },
  {
   "cell_type": "code",
   "execution_count": 100,
   "metadata": {},
   "outputs": [
    {
     "data": {
      "text/html": [
       "<div>\n",
       "<style scoped>\n",
       "    .dataframe tbody tr th:only-of-type {\n",
       "        vertical-align: middle;\n",
       "    }\n",
       "\n",
       "    .dataframe tbody tr th {\n",
       "        vertical-align: top;\n",
       "    }\n",
       "\n",
       "    .dataframe thead th {\n",
       "        text-align: right;\n",
       "    }\n",
       "</style>\n",
       "<table border=\"1\" class=\"dataframe\">\n",
       "  <thead>\n",
       "    <tr style=\"text-align: right;\">\n",
       "      <th></th>\n",
       "      <th>Open</th>\n",
       "      <th>High</th>\n",
       "      <th>Low</th>\n",
       "      <th>Close</th>\n",
       "      <th>Volume</th>\n",
       "    </tr>\n",
       "    <tr>\n",
       "      <th>Date</th>\n",
       "      <th></th>\n",
       "      <th></th>\n",
       "      <th></th>\n",
       "      <th></th>\n",
       "      <th></th>\n",
       "    </tr>\n",
       "  </thead>\n",
       "  <tbody>\n",
       "    <tr>\n",
       "      <th>2022-12-30</th>\n",
       "      <td>83.12</td>\n",
       "      <td>84.05</td>\n",
       "      <td>82.4700</td>\n",
       "      <td>84.00</td>\n",
       "      <td>62401191.0</td>\n",
       "    </tr>\n",
       "    <tr>\n",
       "      <th>2022-12-29</th>\n",
       "      <td>82.87</td>\n",
       "      <td>84.55</td>\n",
       "      <td>82.5500</td>\n",
       "      <td>84.18</td>\n",
       "      <td>54995898.0</td>\n",
       "    </tr>\n",
       "    <tr>\n",
       "      <th>2022-12-28</th>\n",
       "      <td>82.80</td>\n",
       "      <td>83.48</td>\n",
       "      <td>81.6900</td>\n",
       "      <td>81.82</td>\n",
       "      <td>58228578.0</td>\n",
       "    </tr>\n",
       "    <tr>\n",
       "      <th>2022-12-27</th>\n",
       "      <td>84.97</td>\n",
       "      <td>85.35</td>\n",
       "      <td>83.0000</td>\n",
       "      <td>83.04</td>\n",
       "      <td>57284039.0</td>\n",
       "    </tr>\n",
       "    <tr>\n",
       "      <th>2022-12-23</th>\n",
       "      <td>83.25</td>\n",
       "      <td>85.78</td>\n",
       "      <td>82.9344</td>\n",
       "      <td>85.25</td>\n",
       "      <td>57433660.0</td>\n",
       "    </tr>\n",
       "  </tbody>\n",
       "</table>\n",
       "</div>"
      ],
      "text/plain": [
       "             Open   High      Low   Close      Volume\n",
       "Date                                                 \n",
       "2022-12-30  83.12  84.05  82.4700   84.00  62401191.0\n",
       "2022-12-29  82.87  84.55  82.5500   84.18  54995898.0\n",
       "2022-12-28  82.80  83.48  81.6900   81.82  58228578.0\n",
       "2022-12-27  84.97  85.35  83.0000   83.04  57284039.0\n",
       "2022-12-23  83.25  85.78  82.9344   85.25  57433660.0"
      ]
     },
     "execution_count": 100,
     "metadata": {},
     "output_type": "execute_result"
    }
   ],
   "source": [
    "amazon_df.head(5)"
   ]
  },
  {
   "cell_type": "code",
   "execution_count": null,
   "metadata": {},
   "outputs": [],
   "source": []
  }
 ],
 "metadata": {
  "kernelspec": {
   "display_name": "Python 3",
   "language": "python",
   "name": "python3"
  },
  "language_info": {
   "codemirror_mode": {
    "name": "ipython",
    "version": 3
   },
   "file_extension": ".py",
   "mimetype": "text/x-python",
   "name": "python",
   "nbconvert_exporter": "python",
   "pygments_lexer": "ipython3",
   "version": "3.8.8"
  }
 },
 "nbformat": 4,
 "nbformat_minor": 2
}
